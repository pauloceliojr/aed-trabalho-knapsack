{
 "cells": [
  {
   "cell_type": "markdown",
   "metadata": {
    "id": "rIdZQJrb8Ncm",
    "pycharm": {
     "name": "#%% md\n"
    }
   },
   "source": [
    "# Trabalho de Algoritmos e Estrutura de Dados\n",
    "## Problema da Mochila Binária"
   ]
  },
  {
   "cell_type": "markdown",
   "metadata": {
    "id": "B7T9eYFZAabe",
    "pycharm": {
     "name": "#%% md\n"
    }
   },
   "source": [
    "## Importando as dependências"
   ]
  },
  {
   "cell_type": "code",
   "execution_count": 1,
   "metadata": {
    "pycharm": {
     "name": "#%%\n"
    }
   },
   "outputs": [],
   "source": [
    "from datetime import datetime\n",
    "import pandas as pd\n",
    "import seaborn as sns"
   ]
  },
  {
   "cell_type": "markdown",
   "metadata": {
    "pycharm": {
     "name": "#%% md\n"
    }
   },
   "source": [
    "## Definindo o parâmetros do problema"
   ]
  },
  {
   "cell_type": "code",
   "execution_count": 2,
   "metadata": {
    "pycharm": {
     "name": "#%%\n"
    }
   },
   "outputs": [],
   "source": [
    "dados = {\"importancia\": [60, 100, 120, 50],\n",
    "         \"valor\": [10, 20, 30, 50]}\n",
    "valor_disponivel = 50\n",
    "\n",
    "# dados = {\"importancia\": [10, 21, 50, 51],\n",
    "#          \"valor\": [2, 3, 5, 6],\n",
    "#          \"selecionado\": [0, 0, 0, 0]}\n",
    "# valor_disponivel = 7\n",
    "itens = pd.DataFrame(dados)\n",
    "\n",
    "# valor_disponivel = 6200000\n",
    "# itens = pd.read_excel(\"proposicoes_STI_2023.xlsx\", sheet_name=\"Tratado\")\n",
    "# itens = itens.filter([\"Ação\", \"GUT\", \"Unidade Total\"]).rename(columns={\"Ação\": \"acao\", \"GUT\": \"importancia\",\n",
    "#                                                                        \"Unidade Total\": \"valor\"})\n",
    "itens[\"importancia_por_valor\"] = itens.importancia / itens.valor\n",
    "itens[\"proporcao\"] = 0"
   ]
  },
  {
   "cell_type": "markdown",
   "metadata": {
    "pycharm": {
     "name": "#%% md\n"
    }
   },
   "source": [
    "Exibindo o conteúdo dos 5 primeiros registros"
   ]
  },
  {
   "cell_type": "code",
   "execution_count": 3,
   "metadata": {
    "pycharm": {
     "name": "#%%\n"
    }
   },
   "outputs": [
    {
     "data": {
      "text/plain": "   importancia  valor  importancia_por_valor  proporcao\n0           60     10                    6.0          0\n1          100     20                    5.0          0\n2          120     30                    4.0          0\n3           50     50                    1.0          0",
      "text/html": "<div>\n<style scoped>\n    .dataframe tbody tr th:only-of-type {\n        vertical-align: middle;\n    }\n\n    .dataframe tbody tr th {\n        vertical-align: top;\n    }\n\n    .dataframe thead th {\n        text-align: right;\n    }\n</style>\n<table border=\"1\" class=\"dataframe\">\n  <thead>\n    <tr style=\"text-align: right;\">\n      <th></th>\n      <th>importancia</th>\n      <th>valor</th>\n      <th>importancia_por_valor</th>\n      <th>proporcao</th>\n    </tr>\n  </thead>\n  <tbody>\n    <tr>\n      <th>0</th>\n      <td>60</td>\n      <td>10</td>\n      <td>6.0</td>\n      <td>0</td>\n    </tr>\n    <tr>\n      <th>1</th>\n      <td>100</td>\n      <td>20</td>\n      <td>5.0</td>\n      <td>0</td>\n    </tr>\n    <tr>\n      <th>2</th>\n      <td>120</td>\n      <td>30</td>\n      <td>4.0</td>\n      <td>0</td>\n    </tr>\n    <tr>\n      <th>3</th>\n      <td>50</td>\n      <td>50</td>\n      <td>1.0</td>\n      <td>0</td>\n    </tr>\n  </tbody>\n</table>\n</div>"
     },
     "execution_count": 3,
     "metadata": {},
     "output_type": "execute_result"
    }
   ],
   "source": [
    "itens.head()"
   ]
  },
  {
   "cell_type": "markdown",
   "metadata": {
    "pycharm": {
     "name": "#%% md\n"
    }
   },
   "source": [
    "Inicializa o DataFrame que conterá as estatísticas"
   ]
  },
  {
   "cell_type": "code",
   "execution_count": 4,
   "metadata": {
    "pycharm": {
     "name": "#%%\n"
    }
   },
   "outputs": [],
   "source": [
    "estatisticas = pd.DataFrame(columns=[\"algoritmo\", \"inicio_processamento\", \"fim_processamento\", \"tempo_processamento\", \"importancia_maxima\", \"valor_maximo\", \"itens_selecionados\", \"itens_rejeitados\"])"
   ]
  },
  {
   "cell_type": "markdown",
   "metadata": {
    "pycharm": {
     "name": "#%% md\n"
    }
   },
   "source": [
    "## Algoritmos Exatos\n",
    "---"
   ]
  },
  {
   "cell_type": "markdown",
   "metadata": {
    "pycharm": {
     "name": "#%% md\n"
    }
   },
   "source": [
    "### Branch and Bound\n",
    "\n",
    "O método Branch and bound, proposto por A. H. Land e A. G. Doig em 1960, é um algoritmo para encontrar soluções ótimas para vários problemas de otimização, especialmente em otimização combinatória. Consiste em uma enumeração sistemática de todos os candidatos a solução, através da qual grandes subconjuntos de candidatos infrutíferos são descartados em massa utilizando os limites superior e inferior da quantia otimizada."
   ]
  },
  {
   "cell_type": "markdown",
   "metadata": {
    "pycharm": {
     "name": "#%% md\n"
    }
   },
   "source": [
    "Importando a classe que implementa o algoritmo"
   ]
  },
  {
   "cell_type": "code",
   "execution_count": 5,
   "metadata": {
    "pycharm": {
     "name": "#%%\n"
    }
   },
   "outputs": [],
   "source": [
    "from algoritmos_exatos import BranchAndBoundKnapsack"
   ]
  },
  {
   "cell_type": "markdown",
   "metadata": {
    "pycharm": {
     "name": "#%% md\n"
    }
   },
   "source": [
    "Solucionando o problema para o conjunto de dados especificado"
   ]
  },
  {
   "cell_type": "code",
   "execution_count": 6,
   "metadata": {
    "pycharm": {
     "name": "#%%\n"
    }
   },
   "outputs": [
    {
     "name": "stdout",
     "output_type": "stream",
     "text": [
      "Início do processamento: 2022-09-16 11:55:19.139043\n",
      "Fim do processamento: 2022-09-16 11:55:19.155046\n",
      "Tempo de processamento: 0:00:00.016003\n"
     ]
    }
   ],
   "source": [
    "inicio_processamento = datetime.now()\n",
    "print(\"Início do processamento:\", inicio_processamento)\n",
    "\n",
    "knapsack = BranchAndBoundKnapsack(valor_disponivel, itens)\n",
    "itens_retornados = knapsack.solucionar()\n",
    "\n",
    "fim_processamento = datetime.now()\n",
    "tempo_processamento = fim_processamento - inicio_processamento\n",
    "print(\"Fim do processamento:\", fim_processamento)\n",
    "print(\"Tempo de processamento:\", tempo_processamento)"
   ]
  },
  {
   "cell_type": "code",
   "execution_count": 7,
   "metadata": {
    "pycharm": {
     "name": "#%%\n"
    }
   },
   "outputs": [
    {
     "name": "stdout",
     "output_type": "stream",
     "text": [
      "Algoritmo utilizado: Branch and Bound\n",
      "Importância máxima obtida: 220\n",
      "Valor máximo obtido: R$50.00\n"
     ]
    }
   ],
   "source": [
    "print(\"Algoritmo utilizado:\", knapsack)\n",
    "importancia_maxima = itens_retornados.query('proporcao == 1').importancia.sum()\n",
    "valor_maximo = itens_retornados.query('proporcao == 1').valor.sum()\n",
    "print(f\"Importância máxima obtida: {importancia_maxima}\")\n",
    "print(f\"Valor máximo obtido: R${valor_maximo:0.2f}\")"
   ]
  },
  {
   "cell_type": "markdown",
   "metadata": {
    "pycharm": {
     "name": "#%% md\n"
    }
   },
   "source": [
    "Itens selecionados\n"
   ]
  },
  {
   "cell_type": "code",
   "execution_count": 8,
   "metadata": {
    "pycharm": {
     "name": "#%%\n"
    }
   },
   "outputs": [
    {
     "data": {
      "text/plain": "   importancia  valor  importancia_por_valor  proporcao\n1          100     20                    5.0          1\n2          120     30                    4.0          1",
      "text/html": "<div>\n<style scoped>\n    .dataframe tbody tr th:only-of-type {\n        vertical-align: middle;\n    }\n\n    .dataframe tbody tr th {\n        vertical-align: top;\n    }\n\n    .dataframe thead th {\n        text-align: right;\n    }\n</style>\n<table border=\"1\" class=\"dataframe\">\n  <thead>\n    <tr style=\"text-align: right;\">\n      <th></th>\n      <th>importancia</th>\n      <th>valor</th>\n      <th>importancia_por_valor</th>\n      <th>proporcao</th>\n    </tr>\n  </thead>\n  <tbody>\n    <tr>\n      <th>1</th>\n      <td>100</td>\n      <td>20</td>\n      <td>5.0</td>\n      <td>1</td>\n    </tr>\n    <tr>\n      <th>2</th>\n      <td>120</td>\n      <td>30</td>\n      <td>4.0</td>\n      <td>1</td>\n    </tr>\n  </tbody>\n</table>\n</div>"
     },
     "execution_count": 8,
     "metadata": {},
     "output_type": "execute_result"
    }
   ],
   "source": [
    "itens_selecionados = itens_retornados.query(\"proporcao == 1\")\n",
    "itens_selecionados"
   ]
  },
  {
   "cell_type": "markdown",
   "metadata": {
    "pycharm": {
     "name": "#%% md\n"
    }
   },
   "source": [
    "Itens rejeitados"
   ]
  },
  {
   "cell_type": "code",
   "execution_count": 9,
   "metadata": {
    "pycharm": {
     "name": "#%%\n"
    }
   },
   "outputs": [
    {
     "data": {
      "text/plain": "   importancia  valor  importancia_por_valor  proporcao\n0           60     10                    6.0          0\n3           50     50                    1.0          0",
      "text/html": "<div>\n<style scoped>\n    .dataframe tbody tr th:only-of-type {\n        vertical-align: middle;\n    }\n\n    .dataframe tbody tr th {\n        vertical-align: top;\n    }\n\n    .dataframe thead th {\n        text-align: right;\n    }\n</style>\n<table border=\"1\" class=\"dataframe\">\n  <thead>\n    <tr style=\"text-align: right;\">\n      <th></th>\n      <th>importancia</th>\n      <th>valor</th>\n      <th>importancia_por_valor</th>\n      <th>proporcao</th>\n    </tr>\n  </thead>\n  <tbody>\n    <tr>\n      <th>0</th>\n      <td>60</td>\n      <td>10</td>\n      <td>6.0</td>\n      <td>0</td>\n    </tr>\n    <tr>\n      <th>3</th>\n      <td>50</td>\n      <td>50</td>\n      <td>1.0</td>\n      <td>0</td>\n    </tr>\n  </tbody>\n</table>\n</div>"
     },
     "execution_count": 9,
     "metadata": {},
     "output_type": "execute_result"
    }
   ],
   "source": [
    "itens_rejeitados = itens_retornados.query(\"proporcao == 0\")\n",
    "itens_rejeitados"
   ]
  },
  {
   "cell_type": "markdown",
   "metadata": {
    "pycharm": {
     "name": "#%% md\n"
    }
   },
   "source": [
    "Compilando as estastísticas do algoritmo"
   ]
  },
  {
   "cell_type": "code",
   "execution_count": 10,
   "metadata": {
    "pycharm": {
     "name": "#%%\n"
    }
   },
   "outputs": [],
   "source": [
    "dicionario_estatistica = {\"algoritmo\": [str(knapsack)],\n",
    "                          \"inicio_processamento\": [inicio_processamento],\n",
    "                          \"fim_processamento\": [fim_processamento],\n",
    "                          \"tempo_processamento\": [tempo_processamento.total_seconds() * 1000],\n",
    "                          \"importancia_maxima\": [importancia_maxima],\n",
    "                          \"valor_maximo\": [valor_maximo],\n",
    "                          \"itens_selecionados\": [len(itens_selecionados)],\n",
    "                          \"itens_rejeitados\": [len(itens_rejeitados)]}\n",
    "\n",
    "estatistica = pd.DataFrame(dicionario_estatistica)\n",
    "estatisticas = pd.concat([estatisticas, estatistica], ignore_index=True)"
   ]
  },
  {
   "cell_type": "markdown",
   "metadata": {
    "pycharm": {
     "name": "#%% md\n"
    }
   },
   "source": [
    "## Algoritmos Aproximados\n",
    "---"
   ]
  },
  {
   "cell_type": "markdown",
   "metadata": {
    "pycharm": {
     "name": "#%% md\n"
    }
   },
   "source": [
    "### Algoritmo Guloso\n",
    "\n",
    "Algoritmo guloso é técnica de projeto de algoritmos que tenta resolver o problema fazendo a escolha localmente ótima em cada fase com a esperança de encontrar um ótimo global.\n",
    "\n",
    "Na solução de alguns problemas combinatórios a estratégia gulosa pode assegurar a obtenção de soluções ótimas, o que não é muito comum. No entanto, quando o problema a ser resolvido pertencer à classe NP-completo ou NP-difícil, a estratégia gulosa torna-se atrativa para a obtenção de solução aproximada em tempo polinomial."
   ]
  },
  {
   "cell_type": "markdown",
   "metadata": {
    "pycharm": {
     "name": "#%% md\n"
    }
   },
   "source": [
    "Importando a classe que implementa o algoritmo"
   ]
  },
  {
   "cell_type": "code",
   "execution_count": 11,
   "metadata": {
    "pycharm": {
     "name": "#%%\n"
    }
   },
   "outputs": [],
   "source": [
    "from algoritmos_aproximados import GreedyKnapsack"
   ]
  },
  {
   "cell_type": "markdown",
   "metadata": {
    "pycharm": {
     "name": "#%% md\n"
    }
   },
   "source": [
    "Solucionando o problema para o conjunto de dados especificado"
   ]
  },
  {
   "cell_type": "code",
   "execution_count": 12,
   "metadata": {
    "pycharm": {
     "name": "#%%\n"
    }
   },
   "outputs": [
    {
     "name": "stdout",
     "output_type": "stream",
     "text": [
      "Início do processamento: 2022-09-16 11:55:19.455114\n",
      "Fim do processamento: 2022-09-16 11:55:19.457115\n",
      "Tempo de processamento: 0:00:00.002001\n"
     ]
    }
   ],
   "source": [
    "inicio_processamento = datetime.now()\n",
    "print(\"Início do processamento:\", inicio_processamento)\n",
    "\n",
    "knapsack = GreedyKnapsack(valor_disponivel, itens)\n",
    "itens_retornados = knapsack.solucionar()\n",
    "\n",
    "fim_processamento = datetime.now()\n",
    "tempo_processamento = fim_processamento - inicio_processamento\n",
    "print(\"Fim do processamento:\", fim_processamento)\n",
    "print(\"Tempo de processamento:\", tempo_processamento)"
   ]
  },
  {
   "cell_type": "code",
   "execution_count": 13,
   "metadata": {
    "pycharm": {
     "name": "#%%\n"
    }
   },
   "outputs": [
    {
     "name": "stdout",
     "output_type": "stream",
     "text": [
      "Algoritmo utilizado: Algoritmo Guloso\n",
      "Importância máxima obtida: 280\n",
      "Valor máximo obtido: R$60.00\n"
     ]
    }
   ],
   "source": [
    "print(\"Algoritmo utilizado:\", knapsack)\n",
    "importancia_maxima = itens_retornados.query('proporcao == 1').importancia.sum()\n",
    "valor_maximo = itens_retornados.query('proporcao == 1').valor.sum()\n",
    "print(f\"Importância máxima obtida: {importancia_maxima}\")\n",
    "print(f\"Valor máximo obtido: R${valor_maximo:0.2f}\")"
   ]
  },
  {
   "cell_type": "markdown",
   "metadata": {
    "pycharm": {
     "name": "#%% md\n"
    }
   },
   "source": [
    "Itens selecionados"
   ]
  },
  {
   "cell_type": "code",
   "execution_count": 14,
   "metadata": {
    "pycharm": {
     "name": "#%%\n"
    }
   },
   "outputs": [
    {
     "data": {
      "text/plain": "   importancia  valor  importancia_por_valor  proporcao\n0           60     10                    6.0          1\n1          100     20                    5.0          1\n2          120     30                    4.0          1",
      "text/html": "<div>\n<style scoped>\n    .dataframe tbody tr th:only-of-type {\n        vertical-align: middle;\n    }\n\n    .dataframe tbody tr th {\n        vertical-align: top;\n    }\n\n    .dataframe thead th {\n        text-align: right;\n    }\n</style>\n<table border=\"1\" class=\"dataframe\">\n  <thead>\n    <tr style=\"text-align: right;\">\n      <th></th>\n      <th>importancia</th>\n      <th>valor</th>\n      <th>importancia_por_valor</th>\n      <th>proporcao</th>\n    </tr>\n  </thead>\n  <tbody>\n    <tr>\n      <th>0</th>\n      <td>60</td>\n      <td>10</td>\n      <td>6.0</td>\n      <td>1</td>\n    </tr>\n    <tr>\n      <th>1</th>\n      <td>100</td>\n      <td>20</td>\n      <td>5.0</td>\n      <td>1</td>\n    </tr>\n    <tr>\n      <th>2</th>\n      <td>120</td>\n      <td>30</td>\n      <td>4.0</td>\n      <td>1</td>\n    </tr>\n  </tbody>\n</table>\n</div>"
     },
     "execution_count": 14,
     "metadata": {},
     "output_type": "execute_result"
    }
   ],
   "source": [
    "itens_selecionados = itens_retornados.query(\"proporcao == 1\")\n",
    "itens_selecionados"
   ]
  },
  {
   "cell_type": "markdown",
   "metadata": {
    "pycharm": {
     "name": "#%% md\n"
    }
   },
   "source": [
    "Itens rejeitados"
   ]
  },
  {
   "cell_type": "code",
   "execution_count": 15,
   "metadata": {
    "pycharm": {
     "name": "#%%\n"
    }
   },
   "outputs": [
    {
     "data": {
      "text/plain": "   importancia  valor  importancia_por_valor  proporcao\n3           50     50                    1.0          0",
      "text/html": "<div>\n<style scoped>\n    .dataframe tbody tr th:only-of-type {\n        vertical-align: middle;\n    }\n\n    .dataframe tbody tr th {\n        vertical-align: top;\n    }\n\n    .dataframe thead th {\n        text-align: right;\n    }\n</style>\n<table border=\"1\" class=\"dataframe\">\n  <thead>\n    <tr style=\"text-align: right;\">\n      <th></th>\n      <th>importancia</th>\n      <th>valor</th>\n      <th>importancia_por_valor</th>\n      <th>proporcao</th>\n    </tr>\n  </thead>\n  <tbody>\n    <tr>\n      <th>3</th>\n      <td>50</td>\n      <td>50</td>\n      <td>1.0</td>\n      <td>0</td>\n    </tr>\n  </tbody>\n</table>\n</div>"
     },
     "execution_count": 15,
     "metadata": {},
     "output_type": "execute_result"
    }
   ],
   "source": [
    "itens_rejeitados = itens_retornados.query(\"proporcao == 0\")\n",
    "itens_rejeitados"
   ]
  },
  {
   "cell_type": "markdown",
   "metadata": {
    "pycharm": {
     "name": "#%% md\n"
    }
   },
   "source": [
    "Compilando as estastísticas do algoritmo"
   ]
  },
  {
   "cell_type": "code",
   "execution_count": 16,
   "metadata": {
    "pycharm": {
     "name": "#%%\n"
    }
   },
   "outputs": [],
   "source": [
    "dicionario_estatistica = {\"algoritmo\": [str(knapsack)],\n",
    "                          \"inicio_processamento\": [inicio_processamento],\n",
    "                          \"fim_processamento\": [fim_processamento],\n",
    "                          \"tempo_processamento\": [tempo_processamento.total_seconds() * 1000],\n",
    "                          \"importancia_maxima\": [importancia_maxima],\n",
    "                          \"valor_maximo\": [valor_maximo],\n",
    "                          \"itens_selecionados\": [len(itens_selecionados)],\n",
    "                          \"itens_rejeitados\": [len(itens_rejeitados)]}\n",
    "\n",
    "estatistica = pd.DataFrame(dicionario_estatistica)\n",
    "estatisticas = pd.concat([estatisticas, estatistica], ignore_index=True)"
   ]
  },
  {
   "cell_type": "markdown",
   "metadata": {
    "pycharm": {
     "name": "#%% md\n"
    }
   },
   "source": [
    "### Busca Tabu\n",
    "A Busca Tabu, algoritmo proposto por Glover na sua forma atual em 1986, é uma Meta-heurística, ou procedimento adaptativo auxiliar, que guia um algoritmo de busca local na exploração contínua dentro de um espaço de busca. Aqui a implementação tenta melhorar o resultado obtido a partir de uma heurística gulosa.\n",
    "\n",
    "A partir de uma solução inicial, que pode ser escolhida de acordo com algum dentre vários critérios possíveis, tenta avançar, a cada iteração, para uma outra solução (melhor que a anterior) não aceitando movimentos que levem a soluções já visitadas, que permanecem em uma lista tabu.\n",
    "\n",
    "Essa lista permanece na memória, durante determinado espaço de tempo ou certo número de iterações sem que haja melhora na solução(prazo tabu), opção esta adotada nessa implementação (prazo tabu = 50 iterações)."
   ]
  },
  {
   "cell_type": "markdown",
   "metadata": {
    "pycharm": {
     "name": "#%% md\n"
    }
   },
   "source": [
    "Importando a classe que implementa o algoritmo"
   ]
  },
  {
   "cell_type": "code",
   "execution_count": 17,
   "metadata": {
    "pycharm": {
     "name": "#%%\n"
    }
   },
   "outputs": [],
   "source": [
    "from algoritmos_aproximados import TabuSearchKnapsack"
   ]
  },
  {
   "cell_type": "markdown",
   "metadata": {
    "pycharm": {
     "name": "#%% md\n"
    }
   },
   "source": [
    "Solucionando o problema para o conjunto de dados especificado"
   ]
  },
  {
   "cell_type": "code",
   "execution_count": 18,
   "metadata": {
    "pycharm": {
     "name": "#%%\n"
    }
   },
   "outputs": [
    {
     "name": "stdout",
     "output_type": "stream",
     "text": [
      "Início do processamento: 2022-09-16 11:55:19.711204\n",
      "Fim do processamento: 2022-09-16 11:55:19.732208\n",
      "Tempo de processamento: 0:00:00.021004\n"
     ]
    }
   ],
   "source": [
    "inicio_processamento = datetime.now()\n",
    "print(\"Início do processamento:\", inicio_processamento)\n",
    "\n",
    "knapsack = TabuSearchKnapsack(valor_disponivel, itens)\n",
    "itens_retornados = knapsack.solucionar()\n",
    "\n",
    "fim_processamento = datetime.now()\n",
    "tempo_processamento = fim_processamento - inicio_processamento\n",
    "print(\"Fim do processamento:\", fim_processamento)\n",
    "print(\"Tempo de processamento:\", tempo_processamento)"
   ]
  },
  {
   "cell_type": "code",
   "execution_count": 19,
   "metadata": {
    "pycharm": {
     "name": "#%%\n"
    }
   },
   "outputs": [
    {
     "name": "stdout",
     "output_type": "stream",
     "text": [
      "Algoritmo utilizado: Busca Tabu\n",
      "Importância máxima obtida: 220\n",
      "Valor máximo obtido: R$50.00\n"
     ]
    }
   ],
   "source": [
    "print(\"Algoritmo utilizado:\", knapsack)\n",
    "importancia_maxima = itens_retornados.query('proporcao == 1').importancia.sum()\n",
    "valor_maximo = itens_retornados.query('proporcao == 1').valor.sum()\n",
    "print(f\"Importância máxima obtida: {importancia_maxima}\")\n",
    "print(f\"Valor máximo obtido: R${valor_maximo:0.2f}\")"
   ]
  },
  {
   "cell_type": "markdown",
   "metadata": {
    "pycharm": {
     "name": "#%% md\n"
    }
   },
   "source": [
    "Itens selecionados"
   ]
  },
  {
   "cell_type": "code",
   "execution_count": 20,
   "metadata": {
    "pycharm": {
     "name": "#%%\n"
    }
   },
   "outputs": [
    {
     "data": {
      "text/plain": "   importancia  valor  importancia_por_valor  proporcao\n1          100     20                    5.0          1\n2          120     30                    4.0          1",
      "text/html": "<div>\n<style scoped>\n    .dataframe tbody tr th:only-of-type {\n        vertical-align: middle;\n    }\n\n    .dataframe tbody tr th {\n        vertical-align: top;\n    }\n\n    .dataframe thead th {\n        text-align: right;\n    }\n</style>\n<table border=\"1\" class=\"dataframe\">\n  <thead>\n    <tr style=\"text-align: right;\">\n      <th></th>\n      <th>importancia</th>\n      <th>valor</th>\n      <th>importancia_por_valor</th>\n      <th>proporcao</th>\n    </tr>\n  </thead>\n  <tbody>\n    <tr>\n      <th>1</th>\n      <td>100</td>\n      <td>20</td>\n      <td>5.0</td>\n      <td>1</td>\n    </tr>\n    <tr>\n      <th>2</th>\n      <td>120</td>\n      <td>30</td>\n      <td>4.0</td>\n      <td>1</td>\n    </tr>\n  </tbody>\n</table>\n</div>"
     },
     "execution_count": 20,
     "metadata": {},
     "output_type": "execute_result"
    }
   ],
   "source": [
    "itens_selecionados = itens_retornados.query(\"proporcao == 1\")\n",
    "itens_selecionados"
   ]
  },
  {
   "cell_type": "markdown",
   "metadata": {
    "pycharm": {
     "name": "#%% md\n"
    }
   },
   "source": [
    "Itens rejeitados"
   ]
  },
  {
   "cell_type": "code",
   "execution_count": 21,
   "metadata": {
    "pycharm": {
     "name": "#%%\n"
    }
   },
   "outputs": [
    {
     "data": {
      "text/plain": "   importancia  valor  importancia_por_valor  proporcao\n0           60     10                    6.0          0\n3           50     50                    1.0          0",
      "text/html": "<div>\n<style scoped>\n    .dataframe tbody tr th:only-of-type {\n        vertical-align: middle;\n    }\n\n    .dataframe tbody tr th {\n        vertical-align: top;\n    }\n\n    .dataframe thead th {\n        text-align: right;\n    }\n</style>\n<table border=\"1\" class=\"dataframe\">\n  <thead>\n    <tr style=\"text-align: right;\">\n      <th></th>\n      <th>importancia</th>\n      <th>valor</th>\n      <th>importancia_por_valor</th>\n      <th>proporcao</th>\n    </tr>\n  </thead>\n  <tbody>\n    <tr>\n      <th>0</th>\n      <td>60</td>\n      <td>10</td>\n      <td>6.0</td>\n      <td>0</td>\n    </tr>\n    <tr>\n      <th>3</th>\n      <td>50</td>\n      <td>50</td>\n      <td>1.0</td>\n      <td>0</td>\n    </tr>\n  </tbody>\n</table>\n</div>"
     },
     "execution_count": 21,
     "metadata": {},
     "output_type": "execute_result"
    }
   ],
   "source": [
    "itens_rejeitados = itens_retornados.query(\"proporcao == 0\")\n",
    "itens_rejeitados"
   ]
  },
  {
   "cell_type": "markdown",
   "metadata": {
    "pycharm": {
     "name": "#%% md\n"
    }
   },
   "source": [
    "Compilando as estastísticas do algoritmo"
   ]
  },
  {
   "cell_type": "code",
   "execution_count": 22,
   "metadata": {
    "pycharm": {
     "name": "#%%\n"
    }
   },
   "outputs": [],
   "source": [
    "dicionario_estatistica = {\"algoritmo\": [str(knapsack)],\n",
    "                          \"inicio_processamento\": [inicio_processamento],\n",
    "                          \"fim_processamento\": [fim_processamento],\n",
    "                          \"tempo_processamento\": [tempo_processamento.total_seconds() * 1000],\n",
    "                          \"importancia_maxima\": [importancia_maxima],\n",
    "                          \"valor_maximo\": [valor_maximo],\n",
    "                          \"itens_selecionados\": [len(itens_selecionados)],\n",
    "                          \"itens_rejeitados\": [len(itens_rejeitados)]}\n",
    "\n",
    "estatistica = pd.DataFrame(dicionario_estatistica)\n",
    "estatisticas = pd.concat([estatisticas, estatistica], ignore_index=True)"
   ]
  },
  {
   "cell_type": "markdown",
   "metadata": {
    "pycharm": {
     "name": "#%% md\n"
    }
   },
   "source": [
    "## Estatísticas\n",
    "---"
   ]
  },
  {
   "cell_type": "markdown",
   "metadata": {
    "pycharm": {
     "name": "#%% md\n"
    }
   },
   "source": [
    "### Estatísticas coletadas"
   ]
  },
  {
   "cell_type": "code",
   "execution_count": 23,
   "metadata": {
    "pycharm": {
     "name": "#%%\n"
    }
   },
   "outputs": [
    {
     "data": {
      "text/plain": "          algoritmo        inicio_processamento           fim_processamento  \\\n0  Branch and Bound  2022-09-16 11:55:19.139043  2022-09-16 11:55:19.155046   \n1  Algoritmo Guloso  2022-09-16 11:55:19.455114  2022-09-16 11:55:19.457115   \n2        Busca Tabu  2022-09-16 11:55:19.711204  2022-09-16 11:55:19.732208   \n\n  tempo_processamento importancia_maxima valor_maximo itens_selecionados  \\\n0              16.003                220           50                  2   \n1               2.001                280           60                  3   \n2              21.004                220           50                  2   \n\n  itens_rejeitados  \n0                2  \n1                1  \n2                2  ",
      "text/html": "<div>\n<style scoped>\n    .dataframe tbody tr th:only-of-type {\n        vertical-align: middle;\n    }\n\n    .dataframe tbody tr th {\n        vertical-align: top;\n    }\n\n    .dataframe thead th {\n        text-align: right;\n    }\n</style>\n<table border=\"1\" class=\"dataframe\">\n  <thead>\n    <tr style=\"text-align: right;\">\n      <th></th>\n      <th>algoritmo</th>\n      <th>inicio_processamento</th>\n      <th>fim_processamento</th>\n      <th>tempo_processamento</th>\n      <th>importancia_maxima</th>\n      <th>valor_maximo</th>\n      <th>itens_selecionados</th>\n      <th>itens_rejeitados</th>\n    </tr>\n  </thead>\n  <tbody>\n    <tr>\n      <th>0</th>\n      <td>Branch and Bound</td>\n      <td>2022-09-16 11:55:19.139043</td>\n      <td>2022-09-16 11:55:19.155046</td>\n      <td>16.003</td>\n      <td>220</td>\n      <td>50</td>\n      <td>2</td>\n      <td>2</td>\n    </tr>\n    <tr>\n      <th>1</th>\n      <td>Algoritmo Guloso</td>\n      <td>2022-09-16 11:55:19.455114</td>\n      <td>2022-09-16 11:55:19.457115</td>\n      <td>2.001</td>\n      <td>280</td>\n      <td>60</td>\n      <td>3</td>\n      <td>1</td>\n    </tr>\n    <tr>\n      <th>2</th>\n      <td>Busca Tabu</td>\n      <td>2022-09-16 11:55:19.711204</td>\n      <td>2022-09-16 11:55:19.732208</td>\n      <td>21.004</td>\n      <td>220</td>\n      <td>50</td>\n      <td>2</td>\n      <td>2</td>\n    </tr>\n  </tbody>\n</table>\n</div>"
     },
     "execution_count": 23,
     "metadata": {},
     "output_type": "execute_result"
    }
   ],
   "source": [
    "estatisticas"
   ]
  },
  {
   "cell_type": "markdown",
   "metadata": {
    "pycharm": {
     "name": "#%% md\n"
    }
   },
   "source": [
    "### Gráficos"
   ]
  },
  {
   "cell_type": "markdown",
   "metadata": {
    "pycharm": {
     "name": "#%% md\n"
    }
   },
   "source": [
    "Importância máxima obtida"
   ]
  },
  {
   "cell_type": "code",
   "execution_count": 24,
   "metadata": {
    "pycharm": {
     "name": "#%%\n"
    }
   },
   "outputs": [
    {
     "data": {
      "text/plain": "<AxesSubplot:xlabel='algoritmo', ylabel='importancia_maxima'>"
     },
     "execution_count": 24,
     "metadata": {},
     "output_type": "execute_result"
    },
    {
     "data": {
      "text/plain": "<Figure size 432x288 with 1 Axes>",
      "image/png": "[encoded data removed]"
     },
     "metadata": {},
     "output_type": "display_data"
    }
   ],
   "source": [
    "ax = sns.barplot(x=\"algoritmo\", y=\"importancia_maxima\", data=estatisticas)\n",
    "ax.bar_label(ax.containers[0])\n",
    "ax"
   ]
  },
  {
   "cell_type": "markdown",
   "metadata": {
    "pycharm": {
     "name": "#%% md\n"
    }
   },
   "source": [
    "Valor máximo obtido"
   ]
  },
  {
   "cell_type": "code",
   "execution_count": 25,
   "metadata": {
    "pycharm": {
     "name": "#%%\n"
    }
   },
   "outputs": [
    {
     "data": {
      "text/plain": "<AxesSubplot:xlabel='algoritmo', ylabel='valor_maximo'>"
     },
     "execution_count": 25,
     "metadata": {},
     "output_type": "execute_result"
    },
    {
     "data": {
      "text/plain": "<Figure size 432x288 with 1 Axes>",
      "image/png": "[encoded data removed]"
     },
     "metadata": {},
     "output_type": "display_data"
    }
   ],
   "source": [
    "ax = sns.barplot(x=\"algoritmo\", y=\"valor_maximo\", data=estatisticas)\n",
    "ax.bar_label(ax.containers[0])\n",
    "ax"
   ]
  },
  {
   "cell_type": "markdown",
   "metadata": {
    "pycharm": {
     "name": "#%% md\n"
    }
   },
   "source": [
    "Composição da mochila"
   ]
  },
  {
   "cell_type": "code",
   "execution_count": 26,
   "metadata": {
    "pycharm": {
     "name": "#%%\n"
    }
   },
   "outputs": [
    {
     "data": {
      "text/plain": "<AxesSubplot:xlabel='algoritmo'>"
     },
     "execution_count": 26,
     "metadata": {},
     "output_type": "execute_result"
    },
    {
     "data": {
      "text/plain": "<Figure size 432x288 with 1 Axes>",
      "image/png": "[encoded data removed]"
     },
     "metadata": {},
     "output_type": "display_data"
    }
   ],
   "source": [
    "estatisticas_composicao = estatisticas.filter([\"algoritmo\", \"itens_selecionados\", \"itens_rejeitados\"])\n",
    "estatisticas_composicao.set_index(\"algoritmo\", inplace=True)\n",
    "ax = estatisticas_composicao.plot(kind='bar', stacked=True)\n",
    "ax.bar_label(ax.containers[0])\n",
    "ax"
   ]
  },
  {
   "cell_type": "markdown",
   "metadata": {
    "pycharm": {
     "name": "#%% md\n"
    }
   },
   "source": [
    "Tempo de processamento"
   ]
  },
  {
   "cell_type": "code",
   "execution_count": 27,
   "metadata": {
    "pycharm": {
     "name": "#%%\n"
    }
   },
   "outputs": [
    {
     "data": {
      "text/plain": "<AxesSubplot:xlabel='tempo_processamento', ylabel='algoritmo'>"
     },
     "execution_count": 27,
     "metadata": {},
     "output_type": "execute_result"
    },
    {
     "data": {
      "text/plain": "<Figure size 432x288 with 1 Axes>",
      "image/png": "[encoded data removed]"
     },
     "metadata": {},
     "output_type": "display_data"
    }
   ],
   "source": [
    "ax = sns.barplot(x=\"tempo_processamento\", y=\"algoritmo\", data=estatisticas, orient=\"h\")\n",
    "ax.bar_label(ax.containers[0])\n",
    "ax"
   ]
  },
  {
   "cell_type": "code",
   "execution_count": 28,
   "outputs": [
    {
     "ename": "ModuleNotFoundError",
     "evalue": "No module named 'ortools.algorithms'; 'ortools' is not a package",
     "output_type": "error",
     "traceback": [
      "\u001B[1;31m---------------------------------------------------------------------------\u001B[0m",
      "\u001B[1;31mModuleNotFoundError\u001B[0m                       Traceback (most recent call last)",
      "Input \u001B[1;32mIn [28]\u001B[0m, in \u001B[0;36m<cell line: 1>\u001B[1;34m()\u001B[0m\n\u001B[1;32m----> 1\u001B[0m \u001B[38;5;28;01mfrom\u001B[39;00m \u001B[38;5;21;01mortools\u001B[39;00m\u001B[38;5;21;01m.\u001B[39;00m\u001B[38;5;21;01malgorithms\u001B[39;00m \u001B[38;5;28;01mimport\u001B[39;00m pywrapknapsack_solver\n\u001B[0;32m      4\u001B[0m \u001B[38;5;28;01mdef\u001B[39;00m \u001B[38;5;21mmain\u001B[39m():\n\u001B[0;32m      5\u001B[0m     \u001B[38;5;66;03m# Create the solver.\u001B[39;00m\n\u001B[0;32m      6\u001B[0m     solver \u001B[38;5;241m=\u001B[39m pywrapknapsack_solver\u001B[38;5;241m.\u001B[39mKnapsackSolver(\n\u001B[0;32m      7\u001B[0m         pywrapknapsack_solver\u001B[38;5;241m.\u001B[39mKnapsackSolver\u001B[38;5;241m.\u001B[39m\n\u001B[0;32m      8\u001B[0m         KNAPSACK_MULTIDIMENSION_BRANCH_AND_BOUND_SOLVER, \u001B[38;5;124m'\u001B[39m\u001B[38;5;124mKnapsackExample\u001B[39m\u001B[38;5;124m'\u001B[39m)\n",
      "File \u001B[1;32m~\\DataspellProjects\\aed-trabalho-knapsack\\ortools.py:1\u001B[0m, in \u001B[0;36m<module>\u001B[1;34m\u001B[0m\n\u001B[1;32m----> 1\u001B[0m \u001B[38;5;28;01mfrom\u001B[39;00m \u001B[38;5;21;01mortools\u001B[39;00m\u001B[38;5;21;01m.\u001B[39;00m\u001B[38;5;21;01malgorithms\u001B[39;00m \u001B[38;5;28;01mimport\u001B[39;00m pywrapknapsack_solver\n\u001B[0;32m      4\u001B[0m \u001B[38;5;28;01mdef\u001B[39;00m \u001B[38;5;21mmain\u001B[39m():\n\u001B[0;32m      5\u001B[0m     \u001B[38;5;66;03m# Create the solver.\u001B[39;00m\n\u001B[0;32m      6\u001B[0m     solver \u001B[38;5;241m=\u001B[39m pywrapknapsack_solver\u001B[38;5;241m.\u001B[39mKnapsackSolver(\n\u001B[0;32m      7\u001B[0m         pywrapknapsack_solver\u001B[38;5;241m.\u001B[39mKnapsackSolver\u001B[38;5;241m.\u001B[39m\n\u001B[0;32m      8\u001B[0m         KNAPSACK_MULTIDIMENSION_BRANCH_AND_BOUND_SOLVER, \u001B[38;5;124m'\u001B[39m\u001B[38;5;124mKnapsackExample\u001B[39m\u001B[38;5;124m'\u001B[39m)\n",
      "\u001B[1;31mModuleNotFoundError\u001B[0m: No module named 'ortools.algorithms'; 'ortools' is not a package"
     ]
    }
   ],
   "source": [
    "from ortools.algorithms import pywrapknapsack_solver\n",
    "\n",
    "\n",
    "def main():\n",
    "    # Create the solver.\n",
    "    solver = pywrapknapsack_solver.KnapsackSolver(\n",
    "        pywrapknapsack_solver.KnapsackSolver.\n",
    "        KNAPSACK_MULTIDIMENSION_BRANCH_AND_BOUND_SOLVER, 'KnapsackExample')\n",
    "\n",
    "    values = [\n",
    "        360, 83, 59, 130, 431, 67, 230, 52, 93, 125, 670, 892, 600, 38, 48, 147,\n",
    "        78, 256, 63, 17, 120, 164, 432, 35, 92, 110, 22, 42, 50, 323, 514, 28,\n",
    "        87, 73, 78, 15, 26, 78, 210, 36, 85, 189, 274, 43, 33, 10, 19, 389, 276,\n",
    "        312\n",
    "    ]\n",
    "    weights = [[\n",
    "        7, 0, 30, 22, 80, 94, 11, 81, 70, 64, 59, 18, 0, 36, 3, 8, 15, 42, 9, 0,\n",
    "        42, 47, 52, 32, 26, 48, 55, 6, 29, 84, 2, 4, 18, 56, 7, 29, 93, 44, 71,\n",
    "        3, 86, 66, 31, 65, 0, 79, 20, 65, 52, 13\n",
    "    ]]\n",
    "    capacities = [850]\n",
    "\n",
    "    solver.Init(values, weights, capacities)\n",
    "    computed_value = solver.Solve()\n",
    "\n",
    "    packed_items = []\n",
    "    packed_weights = []\n",
    "    total_weight = 0\n",
    "    print('Total value =', computed_value)\n",
    "    for i in range(len(values)):\n",
    "        if solver.BestSolutionContains(i):\n",
    "            packed_items.append(i)\n",
    "            packed_weights.append(weights[0][i])\n",
    "            total_weight += weights[0][i]\n",
    "    print('Total weight:', total_weight)\n",
    "    print('Packed items:', packed_items)\n",
    "    print('Packed_weights:', packed_weights)\n",
    "\n",
    "\n",
    "main()"
   ],
   "metadata": {
    "collapsed": false,
    "pycharm": {
     "name": "#%%\n"
    }
   }
  }
 ],
 "metadata": {
  "colab": {
   "collapsed_sections": [],
   "name": "Knapsack.ipynb",
   "provenance": []
  },
  "kernelspec": {
   "display_name": "Python 3 (ipykernel)",
   "language": "python",
   "name": "python3"
  },
  "language_info": {
   "codemirror_mode": {
    "name": "ipython",
    "version": 3
   },
   "file_extension": ".py",
   "mimetype": "text/x-python",
   "name": "python",
   "nbconvert_exporter": "python",
   "pygments_lexer": "ipython3",
   "version": "3.9.12"
  }
 },
 "nbformat": 4,
 "nbformat_minor": 1
}