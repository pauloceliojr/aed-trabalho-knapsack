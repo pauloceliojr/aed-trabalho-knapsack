{
 "nbformat": 4,
 "nbformat_minor": 0,
 "metadata": {
  "colab": {
   "name": "Knapsack.ipynb",
   "provenance": [],
   "collapsed_sections": []
  },
  "kernelspec": {
   "name": "python3",
   "display_name": "Python 3"
  },
  "language_info": {
   "name": "python"
  }
 },
 "cells": [
  {
   "cell_type": "markdown",
   "source": [
    "# Trabalho de Algoritmos e Estrutura de Dados\n",
    "## Problema da Mochila"
   ],
   "metadata": {
    "id": "rIdZQJrb8Ncm",
    "pycharm": {
     "name": "#%% md\n"
    }
   }
  },
  {
   "cell_type": "markdown",
   "source": [
    "## Importando as dependências"
   ],
   "metadata": {
    "id": "B7T9eYFZAabe",
    "pycharm": {
     "name": "#%% md\n"
    }
   }
  },
  {
   "cell_type": "code",
   "execution_count": 2,
   "outputs": [],
   "source": [
    "from datetime import datetime\n",
    "import pandas as pd"
   ],
   "metadata": {
    "collapsed": false,
    "pycharm": {
     "name": "#%%\n"
    }
   }
  },
  {
   "cell_type": "markdown",
   "source": [
    "## Definindo o problema"
   ],
   "metadata": {
    "collapsed": false,
    "pycharm": {
     "name": "#%% md\n"
    }
   }
  },
  {
   "cell_type": "code",
   "execution_count": 3,
   "outputs": [],
   "source": [
    "# dados = {\"valor\": [60, 100, 120, 50],\n",
    "#          \"peso\": [10, 20, 30, 50]}\n",
    "# capacidade = 50\n",
    "\n",
    "dados = {\"valor\": [10, 21, 50, 51],\n",
    "         \"peso\": [2, 3, 5, 6]}\n",
    "capacidade = 7\n",
    "\n",
    "itens = pd.DataFrame(dados)\n",
    "itens[\"valor_por_peso\"] = itens.valor / itens.peso"
   ],
   "metadata": {
    "collapsed": false,
    "pycharm": {
     "name": "#%%\n"
    }
   }
  },
  {
   "cell_type": "markdown",
   "source": [
    "## Algoritmos Exatos\n",
    "---"
   ],
   "metadata": {
    "id": "zrjKE5Jq8aHM",
    "pycharm": {
     "name": "#%% md\n"
    }
   }
  },
  {
   "cell_type": "markdown",
   "source": [
    "### Força Bruta"
   ],
   "metadata": {
    "collapsed": false,
    "pycharm": {
     "name": "#%% md\n"
    }
   }
  },
  {
   "cell_type": "code",
   "source": [
    "from algoritmos_exatos import BruteForceKnapsack"
   ],
   "metadata": {
    "id": "TksRKTOL8k9Z",
    "pycharm": {
     "name": "#%%\n"
    }
   },
   "execution_count": 3,
   "outputs": []
  },
  {
   "cell_type": "code",
   "execution_count": 7,
   "outputs": [
    {
     "ename": "NameError",
     "evalue": "name 'BruteForceKnapsack' is not defined",
     "output_type": "error",
     "traceback": [
      "\u001B[1;31m---------------------------------------------------------------------------\u001B[0m",
      "\u001B[1;31mNameError\u001B[0m                                 Traceback (most recent call last)",
      "Input \u001B[1;32mIn [7]\u001B[0m, in \u001B[0;36m<cell line: 3>\u001B[1;34m()\u001B[0m\n\u001B[0;32m      1\u001B[0m inicio_processamento \u001B[38;5;241m=\u001B[39m datetime\u001B[38;5;241m.\u001B[39mnow()\n\u001B[1;32m----> 3\u001B[0m knapsack \u001B[38;5;241m=\u001B[39m \u001B[43mBruteForceKnapsack\u001B[49m(capacidade, itens)\n\u001B[0;32m      4\u001B[0m \u001B[38;5;28mprint\u001B[39m (\u001B[38;5;124mf\u001B[39m\u001B[38;5;124m\"\u001B[39m\u001B[38;5;124mValor máximo que obtemos = \u001B[39m\u001B[38;5;132;01m{\u001B[39;00mknapsack\u001B[38;5;241m.\u001B[39mmax_1()\u001B[38;5;132;01m}\u001B[39;00m\u001B[38;5;124m\"\u001B[39m)\n\u001B[0;32m      6\u001B[0m fim_processamento \u001B[38;5;241m=\u001B[39m datetime\u001B[38;5;241m.\u001B[39mnow()\n",
      "\u001B[1;31mNameError\u001B[0m: name 'BruteForceKnapsack' is not defined"
     ]
    }
   ],
   "source": [
    "inicio_processamento = datetime.now()\n",
    "\n",
    "knapsack = BruteForceKnapsack(capacidade, itens)\n",
    "print (f\"Valor máximo que obtemos = {knapsack.max_1()}\")\n",
    "\n",
    "fim_processamento = datetime.now()\n",
    "print(\"Tempo de processamento:\", fim_processamento - inicio_processamento)"
   ],
   "metadata": {
    "collapsed": false,
    "pycharm": {
     "name": "#%%\n"
    }
   }
  },
  {
   "cell_type": "markdown",
   "source": [
    "### Programação Dinâmica"
   ],
   "metadata": {
    "collapsed": false,
    "pycharm": {
     "name": "#%% md\n"
    }
   }
  },
  {
   "cell_type": "code",
   "execution_count": 4,
   "outputs": [],
   "source": [
    "from algoritmos_exatos import DynamicProgrammingKnapsack"
   ],
   "metadata": {
    "collapsed": false,
    "pycharm": {
     "name": "#%%\n"
    }
   }
  },
  {
   "cell_type": "code",
   "execution_count": 9,
   "outputs": [
    {
     "name": "stdout",
     "output_type": "stream",
     "text": [
      "Selected weights are: 21 10 \n",
      "None\n",
      "Valor máximo que obtemos = 60\n",
      "Tempo de processamento: 0:00:00.001001\n"
     ]
    }
   ],
   "source": [
    "inicio_processamento = datetime.now()\n",
    "\n",
    "knapsack = DynamicProgrammingKnapsack(capacidade, itens)\n",
    "print (f\"Valor máximo que obtemos = {knapsack.max_1()}\")\n",
    "\n",
    "fim_processamento = datetime.now()\n",
    "print(\"Tempo de processamento:\", fim_processamento - inicio_processamento)"
   ],
   "metadata": {
    "collapsed": false,
    "pycharm": {
     "name": "#%%\n"
    }
   }
  },
  {
   "cell_type": "markdown",
   "source": [
    "### Branch and Bound"
   ],
   "metadata": {
    "collapsed": false,
    "pycharm": {
     "name": "#%% md\n"
    }
   }
  },
  {
   "cell_type": "code",
   "execution_count": 4,
   "outputs": [],
   "source": [
    "from algoritmos_exatos import BranchAndBoundKnapsack"
   ],
   "metadata": {
    "collapsed": false,
    "pycharm": {
     "name": "#%%\n"
    }
   }
  },
  {
   "cell_type": "code",
   "execution_count": 5,
   "outputs": [
    {
     "name": "stdout",
     "output_type": "stream",
     "text": [
      "Valor máximo que obtemos = 60.0\n",
      "Tempo de processamento: 0:00:00.023991\n"
     ]
    }
   ],
   "source": [
    "inicio_processamento = datetime.now()\n",
    "\n",
    "knapsack = BranchAndBoundKnapsack(capacidade, itens)\n",
    "print (f\"Valor máximo que obtemos = {knapsack.max()}\")\n",
    "\n",
    "fim_processamento = datetime.now()\n",
    "print(\"Tempo de processamento:\", fim_processamento - inicio_processamento)"
   ],
   "metadata": {
    "collapsed": false,
    "pycharm": {
     "name": "#%%\n"
    }
   }
  },
  {
   "cell_type": "markdown",
   "source": [
    "## Algoritmos Aproximados\n",
    "---"
   ],
   "metadata": {
    "id": "6eV9uV6072tX",
    "pycharm": {
     "name": "#%% md\n"
    }
   }
  },
  {
   "cell_type": "markdown",
   "source": [
    "### Algoritmo Guloso"
   ],
   "metadata": {
    "id": "BotGzlid7vrI",
    "pycharm": {
     "name": "#%% md\n"
    }
   }
  },
  {
   "cell_type": "code",
   "execution_count": 9,
   "metadata": {
    "colab": {
     "base_uri": "https://localhost:8080/"
    },
    "id": "KCK1t900sP8g",
    "outputId": "4589176e-3d11-4c7c-93fe-3118ef81df18",
    "pycharm": {
     "name": "#%%\n"
    }
   },
   "outputs": [],
   "source": [
    "from algoritmos_aproximados import GreedyKnapsack"
   ]
  },
  {
   "cell_type": "code",
   "execution_count": 10,
   "outputs": [
    {
     "name": "stdout",
     "output_type": "stream",
     "text": [
      "Valor máximo que obtemos = 50.0\n",
      "Tempo de processamento: 0:00:00.001001\n"
     ]
    }
   ],
   "source": [
    "inicio_processamento = datetime.now()\n",
    "\n",
    "knapsack = GreedyKnapsack(capacidade, itens)\n",
    "print (f\"Valor máximo que obtemos = {knapsack.max()}\")\n",
    "\n",
    "fim_processamento = datetime.now()\n",
    "print(\"Tempo de processamento:\", fim_processamento - inicio_processamento)"
   ],
   "metadata": {
    "collapsed": false,
    "pycharm": {
     "name": "#%%\n"
    }
   }
  },
  {
   "cell_type": "code",
   "execution_count": 11,
   "outputs": [
    {
     "name": "stdout",
     "output_type": "stream",
     "text": [
      "Valor máximo que obtemos = 67.0\n",
      "Tempo de processamento: 0:00:00.001001\n"
     ]
    }
   ],
   "source": [
    "inicio_processamento = datetime.now()\n",
    "\n",
    "knapsack = GreedyKnapsack(capacidade, itens, fractional=True)\n",
    "print (f\"Valor máximo que obtemos = {knapsack.max()}\")\n",
    "\n",
    "fim_processamento = datetime.now()\n",
    "print(\"Tempo de processamento:\", fim_processamento - inicio_processamento)"
   ],
   "metadata": {
    "collapsed": false,
    "pycharm": {
     "name": "#%%\n"
    }
   }
  },
  {
   "cell_type": "code",
   "execution_count": 19,
   "outputs": [
    {
     "data": {
      "text/plain": "([[2, 10], [5, 50]], 7, 60)"
     },
     "execution_count": 19,
     "metadata": {},
     "output_type": "execute_result"
    }
   ],
   "source": [],
   "metadata": {
    "collapsed": false,
    "pycharm": {
     "name": "#%%\n"
    }
   }
  }
 ]
}