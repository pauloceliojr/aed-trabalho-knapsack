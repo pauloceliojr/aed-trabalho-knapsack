{
 "nbformat": 4,
 "nbformat_minor": 0,
 "metadata": {
  "colab": {
   "name": "Knapsack.ipynb",
   "provenance": [],
   "collapsed_sections": []
  },
  "kernelspec": {
   "name": "python3",
   "display_name": "Python 3"
  },
  "language_info": {
   "name": "python"
  }
 },
 "cells": [
  {
   "cell_type": "markdown",
   "source": [
    "# Trabalho de Algoritmos e Estrutura de Dados\n",
    "## Problema da Mochila"
   ],
   "metadata": {
    "id": "rIdZQJrb8Ncm",
    "pycharm": {
     "name": "#%% md\n"
    }
   }
  },
  {
   "cell_type": "markdown",
   "source": [
    "## Importando as dependências"
   ],
   "metadata": {
    "id": "B7T9eYFZAabe",
    "pycharm": {
     "name": "#%% md\n"
    }
   }
  },
  {
   "cell_type": "code",
   "execution_count": 1,
   "outputs": [],
   "source": [
    "from datetime import datetime\n",
    "import pandas as pd"
   ],
   "metadata": {
    "collapsed": false,
    "pycharm": {
     "name": "#%%\n"
    }
   }
  },
  {
   "cell_type": "markdown",
   "source": [
    "## Definindo o problema"
   ],
   "metadata": {
    "collapsed": false,
    "pycharm": {
     "name": "#%% md\n"
    }
   }
  },
  {
   "cell_type": "code",
   "execution_count": 2,
   "outputs": [],
   "source": [
    "# dados = {\"valor\": [60, 100, 120, 50],\n",
    "#          \"peso\": [10, 20, 30, 50]}\n",
    "# capacidade = 50\n",
    "\n",
    "dados = {\"valor\": [10, 21, 50, 51],\n",
    "         \"peso\": [2, 3, 5, 6]}\n",
    "capacidade = 7\n",
    "\n",
    "itens = pd.DataFrame(dados)\n",
    "itens[\"valor_por_peso\"] = itens.valor / itens.peso"
   ],
   "metadata": {
    "collapsed": false,
    "pycharm": {
     "name": "#%%\n"
    }
   }
  },
  {
   "cell_type": "markdown",
   "source": [
    "## Algoritmos Exatos\n",
    "---"
   ],
   "metadata": {
    "id": "zrjKE5Jq8aHM",
    "pycharm": {
     "name": "#%% md\n"
    }
   }
  },
  {
   "cell_type": "markdown",
   "source": [
    "### Força Bruta"
   ],
   "metadata": {
    "collapsed": false,
    "pycharm": {
     "name": "#%% md\n"
    }
   }
  },
  {
   "cell_type": "code",
   "source": [
    "from algoritmos_exatos import BruteForceKnapsack"
   ],
   "metadata": {
    "id": "TksRKTOL8k9Z",
    "pycharm": {
     "name": "#%%\n"
    }
   },
   "execution_count": 3,
   "outputs": []
  },
  {
   "cell_type": "code",
   "execution_count": 4,
   "outputs": [
    {
     "name": "stdout",
     "output_type": "stream",
     "text": [
      "Valor máximo que obtemos = 60\n",
      "Tempo de processamento: 0:00:00.001000\n"
     ]
    }
   ],
   "source": [
    "inicio_processamento = datetime.now()\n",
    "\n",
    "knapsack = BruteForceKnapsack(capacidade, itens)\n",
    "print (f\"Valor máximo que obtemos = {knapsack.max()}\")\n",
    "\n",
    "fim_processamento = datetime.now()\n",
    "print(\"Tempo de processamento:\", fim_processamento - inicio_processamento)"
   ],
   "metadata": {
    "collapsed": false,
    "pycharm": {
     "name": "#%%\n"
    }
   }
  },
  {
   "cell_type": "markdown",
   "source": [
    "### Programação Dinâmica"
   ],
   "metadata": {
    "collapsed": false,
    "pycharm": {
     "name": "#%% md\n"
    }
   }
  },
  {
   "cell_type": "code",
   "execution_count": 5,
   "outputs": [],
   "source": [
    "from algoritmos_exatos import DynamicProgrammingKnapsack"
   ],
   "metadata": {
    "collapsed": false,
    "pycharm": {
     "name": "#%%\n"
    }
   }
  },
  {
   "cell_type": "code",
   "execution_count": 6,
   "outputs": [
    {
     "name": "stdout",
     "output_type": "stream",
     "text": [
      "Selected weights are: 2 3 2 \n",
      "Valor máximo que obtemos = 60\n",
      "Tempo de processamento: 0:00:00.000995\n"
     ]
    }
   ],
   "source": [
    "inicio_processamento = datetime.now()\n",
    "\n",
    "knapsack = DynamicProgrammingKnapsack(capacidade, itens)\n",
    "print (f\"Valor máximo que obtemos = {knapsack.max()}\")\n",
    "\n",
    "fim_processamento = datetime.now()\n",
    "print(\"Tempo de processamento:\", fim_processamento - inicio_processamento)"
   ],
   "metadata": {
    "collapsed": false,
    "pycharm": {
     "name": "#%%\n"
    }
   }
  },
  {
   "cell_type": "markdown",
   "source": [
    "### Branch and Bound"
   ],
   "metadata": {
    "collapsed": false,
    "pycharm": {
     "name": "#%% md\n"
    }
   }
  },
  {
   "cell_type": "code",
   "execution_count": 7,
   "outputs": [],
   "source": [
    "from algoritmos_exatos import BranchAndBoundKnapsack"
   ],
   "metadata": {
    "collapsed": false,
    "pycharm": {
     "name": "#%%\n"
    }
   }
  },
  {
   "cell_type": "code",
   "execution_count": 8,
   "outputs": [
    {
     "name": "stdout",
     "output_type": "stream",
     "text": [
      "Valor máximo que obtemos = 60.0\n",
      "Tempo de processamento: 0:00:00.014003\n"
     ]
    }
   ],
   "source": [
    "inicio_processamento = datetime.now()\n",
    "\n",
    "knapsack = BranchAndBoundKnapsack(capacidade, itens)\n",
    "print (f\"Valor máximo que obtemos = {knapsack.max()}\")\n",
    "\n",
    "fim_processamento = datetime.now()\n",
    "print(\"Tempo de processamento:\", fim_processamento - inicio_processamento)"
   ],
   "metadata": {
    "collapsed": false,
    "pycharm": {
     "name": "#%%\n"
    }
   }
  },
  {
   "cell_type": "markdown",
   "source": [
    "## Algoritmos Aproximados\n",
    "---"
   ],
   "metadata": {
    "id": "6eV9uV6072tX",
    "pycharm": {
     "name": "#%% md\n"
    }
   }
  },
  {
   "cell_type": "markdown",
   "source": [
    "### Algoritmo Guloso"
   ],
   "metadata": {
    "id": "BotGzlid7vrI",
    "pycharm": {
     "name": "#%% md\n"
    }
   }
  },
  {
   "cell_type": "code",
   "execution_count": 9,
   "metadata": {
    "colab": {
     "base_uri": "https://localhost:8080/"
    },
    "id": "KCK1t900sP8g",
    "outputId": "4589176e-3d11-4c7c-93fe-3118ef81df18",
    "pycharm": {
     "name": "#%%\n"
    }
   },
   "outputs": [],
   "source": [
    "from algoritmos_aproximados import GreedyKnapsack"
   ]
  },
  {
   "cell_type": "code",
   "execution_count": 10,
   "outputs": [
    {
     "name": "stdout",
     "output_type": "stream",
     "text": [
      "Valor máximo que obtemos = 50.0\n",
      "Tempo de processamento: 0:00:00.002001\n"
     ]
    }
   ],
   "source": [
    "inicio_processamento = datetime.now()\n",
    "\n",
    "knapsack = GreedyKnapsack(capacidade, itens)\n",
    "print (f\"Valor máximo que obtemos = {knapsack.max()}\")\n",
    "\n",
    "fim_processamento = datetime.now()\n",
    "print(\"Tempo de processamento:\", fim_processamento - inicio_processamento)"
   ],
   "metadata": {
    "collapsed": false,
    "pycharm": {
     "name": "#%%\n"
    }
   }
  },
  {
   "cell_type": "code",
   "execution_count": 11,
   "outputs": [
    {
     "name": "stdout",
     "output_type": "stream",
     "text": [
      "Valor máximo que obtemos = 67.0\n",
      "Tempo de processamento: 0:00:00.001002\n"
     ]
    }
   ],
   "source": [
    "inicio_processamento = datetime.now()\n",
    "\n",
    "knapsack = GreedyKnapsack(capacidade, itens, fractional=True)\n",
    "print (f\"Valor máximo que obtemos = {knapsack.max()}\")\n",
    "\n",
    "fim_processamento = datetime.now()\n",
    "print(\"Tempo de processamento:\", fim_processamento - inicio_processamento)"
   ],
   "metadata": {
    "collapsed": false,
    "pycharm": {
     "name": "#%%\n"
    }
   }
  },
  {
   "cell_type": "code",
   "execution_count": 11,
   "outputs": [],
   "source": [],
   "metadata": {
    "collapsed": false,
    "pycharm": {
     "name": "#%%\n"
    }
   }
  }
 ]
}