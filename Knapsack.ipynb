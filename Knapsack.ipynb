{
 "nbformat": 4,
 "nbformat_minor": 0,
 "metadata": {
  "colab": {
   "name": "Knapsack.ipynb",
   "provenance": [],
   "collapsed_sections": []
  },
  "kernelspec": {
   "name": "python3",
   "display_name": "Python 3"
  },
  "language_info": {
   "name": "python"
  }
 },
 "cells": [
  {
   "cell_type": "markdown",
   "source": [
    "# Trabalho de Algoritmos e Estrutura de Dados\n",
    "## Problema da Mochila"
   ],
   "metadata": {
    "id": "rIdZQJrb8Ncm",
    "pycharm": {
     "name": "#%% md\n"
    }
   }
  },
  {
   "cell_type": "markdown",
   "source": [
    "## Importando as dependências"
   ],
   "metadata": {
    "id": "B7T9eYFZAabe",
    "pycharm": {
     "name": "#%% md\n"
    }
   }
  },
  {
   "cell_type": "code",
   "execution_count": 2,
   "outputs": [],
   "source": [
    "from datetime import datetime\n",
    "import pandas as pd"
   ],
   "metadata": {
    "collapsed": false,
    "pycharm": {
     "name": "#%%\n"
    }
   }
  },
  {
   "cell_type": "markdown",
   "source": [
    "## Definindo o problema"
   ],
   "metadata": {
    "collapsed": false,
    "pycharm": {
     "name": "#%% md\n"
    }
   }
  },
  {
   "cell_type": "code",
   "execution_count": 2,
   "outputs": [],
   "source": [
    "# dados = {\"importancia\": [60, 100, 120, 50],\n",
    "#          \"valor\": [10, 20, 30, 50],\n",
    "#          \"selecionado\": [0, 0, 0, 0]}\n",
    "# valor_disponivel = 50\n",
    "\n",
    "# dados = {\"importancia\": [10, 21, 50, 51],\n",
    "#          \"valor\": [2, 3, 5, 6],\n",
    "#          \"selecionado\": [0, 0, 0, 0]}\n",
    "# valor_disponivel = 7\n",
    "# itens = pd.DataFrame(dados)\n",
    "\n",
    "valor_disponivel = 6200000 * 100\n",
    "itens = pd.read_excel(\"proposicoes_STI_2023.xlsx\", sheet_name=\"Tratado\")\n",
    "itens = itens.filter([\"Ação\", \"GUT\", \"Unidade Total\"]).rename(columns={\"Ação\": \"acao\", \"GUT\": \"importancia\",\n",
    "                                                                       \"Unidade Total\": \"valor_original\"})\n",
    "itens[\"valor\"] = itens.valor_original * 100\n",
    "\n",
    "itens[\"importancia_por_valor\"] = itens.importancia / itens.valor\n",
    "itens[\"selecionado\"] = 0"
   ],
   "metadata": {
    "collapsed": false,
    "pycharm": {
     "name": "#%%\n"
    }
   }
  },
  {
   "cell_type": "markdown",
   "source": [
    "## Algoritmos Exatos\n",
    "---"
   ],
   "metadata": {
    "collapsed": false,
    "pycharm": {
     "name": "#%% md\n"
    }
   }
  },
  {
   "cell_type": "markdown",
   "source": [
    "### Força Bruta"
   ],
   "metadata": {
    "collapsed": false,
    "pycharm": {
     "name": "#%% md\n"
    }
   }
  },
  {
   "cell_type": "code",
   "execution_count": 3,
   "outputs": [],
   "source": [
    "# from algoritmos_exatos import BruteForceKnapsack"
   ],
   "metadata": {
    "collapsed": false,
    "pycharm": {
     "name": "#%%\n"
    }
   }
  },
  {
   "cell_type": "code",
   "execution_count": 4,
   "outputs": [],
   "source": [
    "# inicio_processamento = datetime.now()\n",
    "#\n",
    "# knapsack = BruteForceKnapsack(capacidade, itens)\n",
    "# valor, peso = knapsack.max()\n",
    "# print(f\"Valor máximo: {valor} / Peso máximo: {peso / 100}\")\n",
    "#\n",
    "# fim_processamento = datetime.now()\n",
    "# print(\"Tempo de processamento:\", fim_processamento - inicio_processamento)"
   ],
   "metadata": {
    "collapsed": false,
    "pycharm": {
     "name": "#%%\n"
    }
   }
  },
  {
   "cell_type": "markdown",
   "source": [
    "### Programação Dinâmica"
   ],
   "metadata": {
    "collapsed": false,
    "pycharm": {
     "name": "#%% md\n"
    }
   }
  },
  {
   "cell_type": "code",
   "execution_count": 5,
   "outputs": [],
   "source": [
    "# from algoritmos_exatos import DynamicProgrammingKnapsack"
   ],
   "metadata": {
    "collapsed": false,
    "pycharm": {
     "name": "#%%\n"
    }
   }
  },
  {
   "cell_type": "code",
   "execution_count": 6,
   "outputs": [],
   "source": [
    "# inicio_processamento = datetime.now()\n",
    "#\n",
    "# knapsack = DynamicProgrammingKnapsack(capacidade, itens)\n",
    "# print(f\"Valor máximo que obtemos = {knapsack.max()}\")\n",
    "#\n",
    "# fim_processamento = datetime.now()\n",
    "# print(\"Tempo de processamento:\", fim_processamento - inicio_processamento)"
   ],
   "metadata": {
    "collapsed": false,
    "pycharm": {
     "name": "#%%\n"
    }
   }
  },
  {
   "cell_type": "markdown",
   "source": [
    "### Branch and Bound"
   ],
   "metadata": {
    "collapsed": false,
    "pycharm": {
     "name": "#%% md\n"
    }
   }
  },
  {
   "cell_type": "code",
   "execution_count": 7,
   "outputs": [],
   "source": [
    "from algoritmos_exatos import BranchAndBoundKnapsack"
   ],
   "metadata": {
    "collapsed": false,
    "pycharm": {
     "name": "#%%\n"
    }
   }
  },
  {
   "cell_type": "code",
   "execution_count": 8,
   "outputs": [
    {
     "name": "stdout",
     "output_type": "stream",
     "text": [
      "Retorno máximo: 432471472.7784533 / Peso máximo: 6153187.28\n",
      "Tempo de processamento: 0:00:00.039987\n"
     ]
    }
   ],
   "source": [
    "inicio_processamento = datetime.now()\n",
    "\n",
    "knapsack = BranchAndBoundKnapsack(capacidade, itens)\n",
    "valor, peso = knapsack.max()\n",
    "print(f\"Retorno máximo: {valor} / Peso máximo: {peso / 100}\")\n",
    "\n",
    "fim_processamento = datetime.now()\n",
    "print(\"Tempo de processamento:\", fim_processamento - inicio_processamento)"
   ],
   "metadata": {
    "collapsed": false,
    "pycharm": {
     "name": "#%%\n"
    }
   }
  },
  {
   "cell_type": "markdown",
   "source": [
    "## Algoritmos Aproximados\n",
    "---"
   ],
   "metadata": {
    "collapsed": false,
    "pycharm": {
     "name": "#%% md\n"
    }
   }
  },
  {
   "cell_type": "markdown",
   "source": [
    "### Algoritmo Guloso"
   ],
   "metadata": {
    "collapsed": false,
    "pycharm": {
     "name": "#%% md\n"
    }
   }
  },
  {
   "cell_type": "code",
   "execution_count": 9,
   "outputs": [],
   "source": [
    "from algoritmos_aproximados import GreedyKnapsack"
   ],
   "metadata": {
    "collapsed": false,
    "pycharm": {
     "name": "#%%\n"
    }
   }
  },
  {
   "cell_type": "code",
   "execution_count": 10,
   "outputs": [
    {
     "name": "stdout",
     "output_type": "stream",
     "text": [
      "Retorno máximo: 2199 / Valor máximo: 5713187.28\n",
      "Tempo de processamento: 0:00:00.004000\n"
     ]
    }
   ],
   "source": [
    "inicio_processamento = datetime.now()\n",
    "\n",
    "knapsack = GreedyKnapsack(capacidade, itens)\n",
    "valor, peso = knapsack.max()\n",
    "print(f\"Retorno máximo: {valor} / Valor máximo: {peso / 100}\")\n",
    "\n",
    "fim_processamento = datetime.now()\n",
    "print(\"Tempo de processamento:\", fim_processamento - inicio_processamento)"
   ],
   "metadata": {
    "collapsed": false,
    "pycharm": {
     "name": "#%%\n"
    }
   }
  },
  {
   "cell_type": "code",
   "execution_count": 11,
   "outputs": [
    {
     "name": "stdout",
     "output_type": "stream",
     "text": [
      "Retorno máximo: 2215.2546945714284 / Valor máximo: 5784403.06\n",
      "Tempo de processamento: 0:00:00.003997\n"
     ]
    }
   ],
   "source": [
    "inicio_processamento = datetime.now()\n",
    "\n",
    "knapsack = GreedyKnapsack(capacidade, itens, fractional=True)\n",
    "valor, peso = knapsack.max()\n",
    "print(f\"Retorno máximo: {valor} / Valor máximo: {peso / 100:0.2f}\")\n",
    "\n",
    "fim_processamento = datetime.now()\n",
    "print(\"Tempo de processamento:\", fim_processamento - inicio_processamento)"
   ],
   "metadata": {
    "collapsed": false,
    "pycharm": {
     "name": "#%%\n"
    }
   }
  },
  {
   "cell_type": "code",
   "execution_count": 7,
   "outputs": [
    {
     "ename": "TypeError",
     "evalue": "unhashable type: 'list'",
     "output_type": "error",
     "traceback": [
      "\u001B[1;31m---------------------------------------------------------------------------\u001B[0m",
      "\u001B[1;31mTypeError\u001B[0m                                 Traceback (most recent call last)",
      "Input \u001B[1;32mIn [7]\u001B[0m, in \u001B[0;36m<cell line: 2>\u001B[1;34m()\u001B[0m\n\u001B[0;32m      1\u001B[0m serie \u001B[38;5;241m=\u001B[39m pd\u001B[38;5;241m.\u001B[39mSeries([\u001B[38;5;241m0\u001B[39m, \u001B[38;5;241m1\u001B[39m, \u001B[38;5;241m2\u001B[39m, \u001B[38;5;241m3\u001B[39m, \u001B[38;5;241m4\u001B[39m])\n\u001B[1;32m----> 2\u001B[0m \u001B[43mserie\u001B[49m\u001B[38;5;241;43m.\u001B[39;49m\u001B[43miloc\u001B[49m\u001B[43m(\u001B[49m\u001B[43m[\u001B[49m\u001B[38;5;241;43m2\u001B[39;49m\u001B[43m,\u001B[49m\u001B[43m \u001B[49m\u001B[38;5;241;43m4\u001B[39;49m\u001B[43m]\u001B[49m\u001B[43m)\u001B[49m\n",
      "File \u001B[1;32m~\\anaconda3\\lib\\site-packages\\pandas\\core\\indexing.py:634\u001B[0m, in \u001B[0;36m_LocationIndexer.__call__\u001B[1;34m(self, axis)\u001B[0m\n\u001B[0;32m    631\u001B[0m new_self \u001B[38;5;241m=\u001B[39m \u001B[38;5;28mtype\u001B[39m(\u001B[38;5;28mself\u001B[39m)(\u001B[38;5;28mself\u001B[39m\u001B[38;5;241m.\u001B[39mname, \u001B[38;5;28mself\u001B[39m\u001B[38;5;241m.\u001B[39mobj)\n\u001B[0;32m    633\u001B[0m \u001B[38;5;28;01mif\u001B[39;00m axis \u001B[38;5;129;01mis\u001B[39;00m \u001B[38;5;129;01mnot\u001B[39;00m \u001B[38;5;28;01mNone\u001B[39;00m:\n\u001B[1;32m--> 634\u001B[0m     axis \u001B[38;5;241m=\u001B[39m \u001B[38;5;28;43mself\u001B[39;49m\u001B[38;5;241;43m.\u001B[39;49m\u001B[43mobj\u001B[49m\u001B[38;5;241;43m.\u001B[39;49m\u001B[43m_get_axis_number\u001B[49m\u001B[43m(\u001B[49m\u001B[43maxis\u001B[49m\u001B[43m)\u001B[49m\n\u001B[0;32m    635\u001B[0m new_self\u001B[38;5;241m.\u001B[39maxis \u001B[38;5;241m=\u001B[39m axis\n\u001B[0;32m    636\u001B[0m \u001B[38;5;28;01mreturn\u001B[39;00m new_self\n",
      "File \u001B[1;32m~\\anaconda3\\lib\\site-packages\\pandas\\core\\generic.py:550\u001B[0m, in \u001B[0;36mNDFrame._get_axis_number\u001B[1;34m(cls, axis)\u001B[0m\n\u001B[0;32m    546\u001B[0m \u001B[38;5;129m@final\u001B[39m\n\u001B[0;32m    547\u001B[0m \u001B[38;5;129m@classmethod\u001B[39m\n\u001B[0;32m    548\u001B[0m \u001B[38;5;28;01mdef\u001B[39;00m \u001B[38;5;21m_get_axis_number\u001B[39m(\u001B[38;5;28mcls\u001B[39m, axis: Axis) \u001B[38;5;241m-\u001B[39m\u001B[38;5;241m>\u001B[39m \u001B[38;5;28mint\u001B[39m:\n\u001B[0;32m    549\u001B[0m     \u001B[38;5;28;01mtry\u001B[39;00m:\n\u001B[1;32m--> 550\u001B[0m         \u001B[38;5;28;01mreturn\u001B[39;00m \u001B[38;5;28;43mcls\u001B[39;49m\u001B[38;5;241;43m.\u001B[39;49m\u001B[43m_AXIS_TO_AXIS_NUMBER\u001B[49m\u001B[43m[\u001B[49m\u001B[43maxis\u001B[49m\u001B[43m]\u001B[49m\n\u001B[0;32m    551\u001B[0m     \u001B[38;5;28;01mexcept\u001B[39;00m \u001B[38;5;167;01mKeyError\u001B[39;00m:\n\u001B[0;32m    552\u001B[0m         \u001B[38;5;28;01mraise\u001B[39;00m \u001B[38;5;167;01mValueError\u001B[39;00m(\u001B[38;5;124mf\u001B[39m\u001B[38;5;124m\"\u001B[39m\u001B[38;5;124mNo axis named \u001B[39m\u001B[38;5;132;01m{\u001B[39;00maxis\u001B[38;5;132;01m}\u001B[39;00m\u001B[38;5;124m for object type \u001B[39m\u001B[38;5;132;01m{\u001B[39;00m\u001B[38;5;28mcls\u001B[39m\u001B[38;5;241m.\u001B[39m\u001B[38;5;18m__name__\u001B[39m\u001B[38;5;132;01m}\u001B[39;00m\u001B[38;5;124m\"\u001B[39m)\n",
      "\u001B[1;31mTypeError\u001B[0m: unhashable type: 'list'"
     ]
    }
   ],
   "source": [
    "serie = pd.Series([0, 1, 2, 3, 4])\n",
    "serie.iloc([2, 4])"
   ],
   "metadata": {
    "collapsed": false,
    "pycharm": {
     "name": "#%%\n"
    }
   }
  }
 ]
}