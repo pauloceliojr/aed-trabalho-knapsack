{
 "nbformat": 4,
 "nbformat_minor": 0,
 "metadata": {
  "colab": {
   "name": "Knapsack.ipynb",
   "provenance": [],
   "collapsed_sections": []
  },
  "kernelspec": {
   "name": "python3",
   "display_name": "Python 3"
  },
  "language_info": {
   "name": "python"
  }
 },
 "cells": [
  {
   "cell_type": "markdown",
   "source": [
    "# Trabalho de Algoritmos e Estrutura de Dados\n",
    "## Problema da Mochila"
   ],
   "metadata": {
    "id": "rIdZQJrb8Ncm",
    "pycharm": {
     "name": "#%% md\n"
    }
   }
  },
  {
   "cell_type": "markdown",
   "source": [
    "## Importando as dependências"
   ],
   "metadata": {
    "id": "B7T9eYFZAabe",
    "pycharm": {
     "name": "#%% md\n"
    }
   }
  },
  {
   "cell_type": "code",
   "execution_count": 1,
   "outputs": [],
   "source": [
    "from datetime import datetime\n",
    "import pandas as pd"
   ],
   "metadata": {
    "collapsed": false,
    "pycharm": {
     "name": "#%%\n"
    }
   }
  },
  {
   "cell_type": "markdown",
   "source": [
    "## Definindo o problema"
   ],
   "metadata": {
    "collapsed": false,
    "pycharm": {
     "name": "#%% md\n"
    }
   }
  },
  {
   "cell_type": "code",
   "execution_count": 2,
   "outputs": [],
   "source": [
    "# dados = {\"valor\": [60, 100, 120, 50],\n",
    "#          \"peso\": [10, 20, 30, 50]}\n",
    "# capacidade = 50\n",
    "\n",
    "# dados = {\"valor\": [10, 21, 50, 51],\n",
    "#          \"peso\": [2, 3, 5, 6]}\n",
    "# capacidade = 7\n",
    "# itens = pd.DataFrame(dados)\n",
    "\n",
    "capacidade = 6200000 * 100\n",
    "itens = pd.read_excel(\"proposicoes_STI_2023.xlsx\", sheet_name=\"Tratado\")\n",
    "itens = itens.filter([\"Ação\", \"GUT\", \"Unidade Total\"]).rename(columns={\"Ação\": \"acao\", \"GUT\": \"valor\",\n",
    "                                                                       \"Unidade Total\": \"peso_original\"})\n",
    "itens[\"peso\"] = itens.peso_original * 100\n",
    "\n",
    "itens[\"valor_por_peso\"] = itens.valor / itens.peso"
   ],
   "metadata": {
    "collapsed": false,
    "pycharm": {
     "name": "#%%\n"
    }
   }
  },
  {
   "cell_type": "markdown",
   "source": [
    "## Algoritmos Exatos\n",
    "---"
   ],
   "metadata": {
    "collapsed": false,
    "pycharm": {
     "name": "#%% md\n"
    }
   }
  },
  {
   "cell_type": "markdown",
   "source": [
    "### Força Bruta"
   ],
   "metadata": {
    "collapsed": false,
    "pycharm": {
     "name": "#%% md\n"
    }
   }
  },
  {
   "cell_type": "code",
   "execution_count": 3,
   "outputs": [],
   "source": [
    "# from algoritmos_exatos import BruteForceKnapsack"
   ],
   "metadata": {
    "collapsed": false,
    "pycharm": {
     "name": "#%%\n"
    }
   }
  },
  {
   "cell_type": "code",
   "execution_count": 4,
   "outputs": [],
   "source": [
    "# inicio_processamento = datetime.now()\n",
    "#\n",
    "# knapsack = BruteForceKnapsack(capacidade, itens)\n",
    "# print(f\"Valor máximo que obtemos = {knapsack.max() / 100}\")\n",
    "#\n",
    "# fim_processamento = datetime.now()\n",
    "# print(\"Tempo de processamento:\", fim_processamento - inicio_processamento)"
   ],
   "metadata": {
    "collapsed": false,
    "pycharm": {
     "name": "#%%\n"
    }
   }
  },
  {
   "cell_type": "markdown",
   "source": [
    "### Programação Dinâmica"
   ],
   "metadata": {
    "collapsed": false,
    "pycharm": {
     "name": "#%% md\n"
    }
   }
  },
  {
   "cell_type": "code",
   "execution_count": 5,
   "outputs": [],
   "source": [
    "# from algoritmos_exatos import DynamicProgrammingKnapsack"
   ],
   "metadata": {
    "collapsed": false,
    "pycharm": {
     "name": "#%%\n"
    }
   }
  },
  {
   "cell_type": "code",
   "execution_count": 6,
   "outputs": [],
   "source": [
    "# inicio_processamento = datetime.now()\n",
    "#\n",
    "# knapsack = DynamicProgrammingKnapsack(capacidade, itens)\n",
    "# print(f\"Valor máximo que obtemos = {knapsack.max()}\")\n",
    "#\n",
    "# fim_processamento = datetime.now()\n",
    "# print(\"Tempo de processamento:\", fim_processamento - inicio_processamento)"
   ],
   "metadata": {
    "collapsed": false,
    "pycharm": {
     "name": "#%%\n"
    }
   }
  },
  {
   "cell_type": "markdown",
   "source": [
    "### Branch and Bound"
   ],
   "metadata": {
    "collapsed": false,
    "pycharm": {
     "name": "#%% md\n"
    }
   }
  },
  {
   "cell_type": "code",
   "execution_count": 7,
   "outputs": [],
   "source": [
    "from algoritmos_exatos import BranchAndBoundKnapsack"
   ],
   "metadata": {
    "collapsed": false,
    "pycharm": {
     "name": "#%%\n"
    }
   }
  },
  {
   "cell_type": "code",
   "execution_count": 8,
   "outputs": [
    {
     "name": "stdout",
     "output_type": "stream",
     "text": [
      "Valor máximo: 2208 / Peso máximo: 6153187.28\n",
      "Tempo de processamento: 0:00:00.042008\n"
     ]
    }
   ],
   "source": [
    "inicio_processamento = datetime.now()\n",
    "\n",
    "knapsack = BranchAndBoundKnapsack(capacidade, itens)\n",
    "valor, peso = knapsack.max()\n",
    "print(f\"Valor máximo: {valor} / Peso máximo: {peso / 100}\")\n",
    "\n",
    "fim_processamento = datetime.now()\n",
    "print(\"Tempo de processamento:\", fim_processamento - inicio_processamento)"
   ],
   "metadata": {
    "collapsed": false,
    "pycharm": {
     "name": "#%%\n"
    }
   }
  },
  {
   "cell_type": "markdown",
   "source": [
    "## Algoritmos Aproximados\n",
    "---"
   ],
   "metadata": {
    "collapsed": false,
    "pycharm": {
     "name": "#%% md\n"
    }
   }
  },
  {
   "cell_type": "markdown",
   "source": [
    "### Algoritmo Guloso"
   ],
   "metadata": {
    "collapsed": false,
    "pycharm": {
     "name": "#%% md\n"
    }
   }
  },
  {
   "cell_type": "code",
   "execution_count": 9,
   "outputs": [],
   "source": [
    "from algoritmos_aproximados import GreedyKnapsack"
   ],
   "metadata": {
    "collapsed": false,
    "pycharm": {
     "name": "#%%\n"
    }
   }
  },
  {
   "cell_type": "code",
   "execution_count": 10,
   "outputs": [
    {
     "name": "stdout",
     "output_type": "stream",
     "text": [
      "Valor máximo: 2199 / Peso máximo: 5713187.28\n",
      "Tempo de processamento: 0:00:00.004014\n"
     ]
    }
   ],
   "source": [
    "inicio_processamento = datetime.now()\n",
    "\n",
    "knapsack = GreedyKnapsack(capacidade, itens)\n",
    "valor, peso = knapsack.max()\n",
    "print(f\"GUT máximo: {valor} / Valor máximo: {peso / 100}\")\n",
    "\n",
    "fim_processamento = datetime.now()\n",
    "print(\"Tempo de processamento:\", fim_processamento - inicio_processamento)"
   ],
   "metadata": {
    "collapsed": false,
    "pycharm": {
     "name": "#%%\n"
    }
   }
  },
  {
   "cell_type": "code",
   "execution_count": 11,
   "outputs": [
    {
     "name": "stdout",
     "output_type": "stream",
     "text": [
      "Valor máximo: 2215.2546945714284 / Peso máximo: 5784403.06\n",
      "Tempo de processamento: 0:00:00.002998\n"
     ]
    }
   ],
   "source": [
    "inicio_processamento = datetime.now()\n",
    "\n",
    "knapsack = GreedyKnapsack(capacidade, itens, fractional=True)\n",
    "valor, peso = knapsack.max()\n",
    "print(f\"GUT máximo: {valor} / Valor máximo: {peso / 100:0.2f}\")\n",
    "\n",
    "fim_processamento = datetime.now()\n",
    "print(\"Tempo de processamento:\", fim_processamento - inicio_processamento)"
   ],
   "metadata": {
    "collapsed": false,
    "pycharm": {
     "name": "#%%\n"
    }
   }
  },
  {
   "cell_type": "code",
   "execution_count": 12,
   "outputs": [
    {
     "data": {
      "text/plain": "2.0"
     },
     "execution_count": 12,
     "metadata": {},
     "output_type": "execute_result"
    }
   ],
   "source": [
    "17 / 8.5"
   ],
   "metadata": {
    "collapsed": false,
    "pycharm": {
     "name": "#%%\n"
    }
   }
  }
 ]
}