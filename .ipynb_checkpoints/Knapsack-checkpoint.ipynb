{
 "cells": [
  {
   "cell_type": "markdown",
   "metadata": {
    "id": "rIdZQJrb8Ncm",
    "pycharm": {
     "name": "#%% md\n"
    }
   },
   "source": [
    "# Trabalho de Algoritmos e Estrutura de Dados\n",
    "## Problema da Mochila Binária"
   ]
  },
  {
   "cell_type": "markdown",
   "metadata": {
    "id": "B7T9eYFZAabe",
    "pycharm": {
     "name": "#%% md\n"
    }
   },
   "source": [
    "## Importando as dependências"
   ]
  },
  {
   "cell_type": "code",
   "execution_count": 1,
   "metadata": {
    "pycharm": {
     "name": "#%%\n"
    }
   },
   "outputs": [],
   "source": [
    "from datetime import datetime\n",
    "import pandas as pd\n",
    "import seaborn as sns"
   ]
  },
  {
   "cell_type": "markdown",
   "metadata": {
    "pycharm": {
     "name": "#%% md\n"
    }
   },
   "source": [
    "## Definindo o parâmetros do problema"
   ]
  },
  {
   "cell_type": "code",
   "execution_count": 2,
   "metadata": {
    "pycharm": {
     "name": "#%%\n"
    }
   },
   "outputs": [],
   "source": [
    "# dados = {\"importancia\": [60, 100, 120, 50],\n",
    "#          \"valor\": [10, 20, 30, 50],\n",
    "#          \"selecionado\": [0, 0, 0, 0]}\n",
    "# valor_disponivel = 50\n",
    "\n",
    "# dados = {\"importancia\": [10, 21, 50, 51],\n",
    "#          \"valor\": [2, 3, 5, 6],\n",
    "#          \"selecionado\": [0, 0, 0, 0]}\n",
    "# valor_disponivel = 7\n",
    "# itens = pd.DataFrame(dados)\n",
    "\n",
    "valor_disponivel = 6200000\n",
    "itens = pd.read_excel(\"proposicoes_STI_2023.xlsx\", sheet_name=\"Tratado\")\n",
    "itens = itens.filter([\"Ação\", \"GUT\", \"Unidade Total\"]).rename(columns={\"Ação\": \"acao\", \"GUT\": \"importancia\",\n",
    "                                                                       \"Unidade Total\": \"valor\"})\n",
    "itens[\"importancia_por_valor\"] = itens.importancia / itens.valor\n",
    "itens[\"proporcao\"] = 0"
   ]
  },
  {
   "cell_type": "markdown",
   "metadata": {
    "pycharm": {
     "name": "#%% md\n"
    }
   },
   "source": [
    "Exibindo o conteúdo dos 5 primeiros registros"
   ]
  },
  {
   "cell_type": "code",
   "execution_count": 3,
   "metadata": {
    "pycharm": {
     "name": "#%%\n"
    }
   },
   "outputs": [
    {
     "data": {
      "text/html": [
       "<div>\n",
       "<style scoped>\n",
       "    .dataframe tbody tr th:only-of-type {\n",
       "        vertical-align: middle;\n",
       "    }\n",
       "\n",
       "    .dataframe tbody tr th {\n",
       "        vertical-align: top;\n",
       "    }\n",
       "\n",
       "    .dataframe thead th {\n",
       "        text-align: right;\n",
       "    }\n",
       "</style>\n",
       "<table border=\"1\" class=\"dataframe\">\n",
       "  <thead>\n",
       "    <tr style=\"text-align: right;\">\n",
       "      <th></th>\n",
       "      <th>acao</th>\n",
       "      <th>importancia</th>\n",
       "      <th>valor</th>\n",
       "      <th>importancia_por_valor</th>\n",
       "      <th>proporcao</th>\n",
       "    </tr>\n",
       "  </thead>\n",
       "  <tbody>\n",
       "    <tr>\n",
       "      <th>0</th>\n",
       "      <td>Acesso à base de dados da receita federal</td>\n",
       "      <td>8</td>\n",
       "      <td>7164.35</td>\n",
       "      <td>0.001117</td>\n",
       "      <td>0</td>\n",
       "    </tr>\n",
       "    <tr>\n",
       "      <th>1</th>\n",
       "      <td>Big Data Nuvem</td>\n",
       "      <td>18</td>\n",
       "      <td>480000.00</td>\n",
       "      <td>0.000037</td>\n",
       "      <td>0</td>\n",
       "    </tr>\n",
       "    <tr>\n",
       "      <th>2</th>\n",
       "      <td>Big Data Nuvem</td>\n",
       "      <td>18</td>\n",
       "      <td>480000.00</td>\n",
       "      <td>0.000037</td>\n",
       "      <td>0</td>\n",
       "    </tr>\n",
       "    <tr>\n",
       "      <th>3</th>\n",
       "      <td>Canal de Comunicação com a internet - 1</td>\n",
       "      <td>125</td>\n",
       "      <td>62376.33</td>\n",
       "      <td>0.002004</td>\n",
       "      <td>0</td>\n",
       "    </tr>\n",
       "    <tr>\n",
       "      <th>4</th>\n",
       "      <td>Canal de Comunicação com a internet - 2</td>\n",
       "      <td>125</td>\n",
       "      <td>66140.32</td>\n",
       "      <td>0.001890</td>\n",
       "      <td>0</td>\n",
       "    </tr>\n",
       "  </tbody>\n",
       "</table>\n",
       "</div>"
      ],
      "text/plain": [
       "                                         acao  importancia      valor  \\\n",
       "0  Acesso à base de dados da receita federal             8    7164.35   \n",
       "1                              Big Data Nuvem           18  480000.00   \n",
       "2                              Big Data Nuvem           18  480000.00   \n",
       "3     Canal de Comunicação com a internet - 1          125   62376.33   \n",
       "4     Canal de Comunicação com a internet - 2          125   66140.32   \n",
       "\n",
       "   importancia_por_valor  proporcao  \n",
       "0               0.001117          0  \n",
       "1               0.000037          0  \n",
       "2               0.000037          0  \n",
       "3               0.002004          0  \n",
       "4               0.001890          0  "
      ]
     },
     "execution_count": 3,
     "metadata": {},
     "output_type": "execute_result"
    }
   ],
   "source": [
    "itens.head()"
   ]
  },
  {
   "cell_type": "markdown",
   "metadata": {
    "pycharm": {
     "name": "#%% md\n"
    }
   },
   "source": [
    "Inicializa o DataFrame que conterá as estatísticas"
   ]
  },
  {
   "cell_type": "code",
   "execution_count": 4,
   "metadata": {
    "pycharm": {
     "name": "#%%\n"
    }
   },
   "outputs": [],
   "source": [
    "estatisticas = pd.DataFrame(columns=[\"algoritmo\", \"inicio_processamento\", \"fim_processamento\", \"tempo_processamento\", \"importancia_maxima\", \"valor_maximo\", \"itens_selecionados\", \"itens_rejeitados\"])"
   ]
  },
  {
   "cell_type": "markdown",
   "metadata": {
    "pycharm": {
     "name": "#%% md\n"
    }
   },
   "source": [
    "## Algoritmos Exatos\n",
    "---"
   ]
  },
  {
   "cell_type": "markdown",
   "metadata": {
    "pycharm": {
     "name": "#%% md\n"
    }
   },
   "source": [
    "### Branch and Bound\n",
    "\n",
    "O método Branch and bound, proposto por A. H. Land e A. G. Doig em 1960, é um algoritmo para encontrar soluções ótimas para vários problemas de otimização, especialmente em otimização combinatória. Consiste em uma enumeração sistemática de todos os candidatos a solução, através da qual grandes subconjuntos de candidatos infrutíferos são descartados em massa utilizando os limites superior e inferior da quantia otimizada."
   ]
  },
  {
   "cell_type": "markdown",
   "metadata": {
    "pycharm": {
     "name": "#%% md\n"
    }
   },
   "source": [
    "Importando a classe que implementa o algoritmo"
   ]
  },
  {
   "cell_type": "code",
   "execution_count": 5,
   "metadata": {
    "pycharm": {
     "name": "#%%\n"
    }
   },
   "outputs": [],
   "source": [
    "from algoritmos_exatos import BranchAndBoundKnapsack"
   ]
  },
  {
   "cell_type": "markdown",
   "metadata": {
    "pycharm": {
     "name": "#%% md\n"
    }
   },
   "source": [
    "Solucionando o problema para o conjunto de dados especificado"
   ]
  },
  {
   "cell_type": "code",
   "execution_count": 6,
   "metadata": {
    "pycharm": {
     "name": "#%%\n"
    }
   },
   "outputs": [
    {
     "name": "stdout",
     "output_type": "stream",
     "text": [
      "Início do processamento: 2022-09-08 18:34:49.069817\n",
      "Fim do processamento: 2022-09-08 18:34:49.106824\n",
      "Tempo de processamento: 0:00:00.037007\n"
     ]
    }
   ],
   "source": [
    "inicio_processamento = datetime.now()\n",
    "print(\"Início do processamento:\", inicio_processamento)\n",
    "\n",
    "knapsack = BranchAndBoundKnapsack(valor_disponivel, itens)\n",
    "itens_retornados = knapsack.solucionar()\n",
    "\n",
    "fim_processamento = datetime.now()\n",
    "tempo_processamento = fim_processamento - inicio_processamento\n",
    "print(\"Fim do processamento:\", fim_processamento)\n",
    "print(\"Tempo de processamento:\", tempo_processamento)"
   ]
  },
  {
   "cell_type": "code",
   "execution_count": 7,
   "metadata": {
    "pycharm": {
     "name": "#%%\n"
    }
   },
   "outputs": [
    {
     "name": "stdout",
     "output_type": "stream",
     "text": [
      "Algoritmo utilizado: Branch and Bound\n",
      "Importância máxima obtida: 2208\n",
      "Valor máximo obtido: R$6153187.28\n"
     ]
    }
   ],
   "source": [
    "print(\"Algoritmo utilizado:\", knapsack)\n",
    "importancia_maxima = itens_retornados.query('proporcao == 1').importancia.sum()\n",
    "valor_maximo = itens_retornados.query('proporcao == 1').valor.sum()\n",
    "print(f\"Importância máxima obtida: {importancia_maxima}\")\n",
    "print(f\"Valor máximo obtido: R${valor_maximo:0.2f}\")"
   ]
  },
  {
   "cell_type": "markdown",
   "metadata": {
    "pycharm": {
     "name": "#%% md\n"
    }
   },
   "source": [
    "Itens selecionados\n"
   ]
  },
  {
   "cell_type": "code",
   "execution_count": 8,
   "metadata": {
    "pycharm": {
     "name": "#%%\n"
    }
   },
   "outputs": [
    {
     "data": {
      "text/html": [
       "<div>\n",
       "<style scoped>\n",
       "    .dataframe tbody tr th:only-of-type {\n",
       "        vertical-align: middle;\n",
       "    }\n",
       "\n",
       "    .dataframe tbody tr th {\n",
       "        vertical-align: top;\n",
       "    }\n",
       "\n",
       "    .dataframe thead th {\n",
       "        text-align: right;\n",
       "    }\n",
       "</style>\n",
       "<table border=\"1\" class=\"dataframe\">\n",
       "  <thead>\n",
       "    <tr style=\"text-align: right;\">\n",
       "      <th></th>\n",
       "      <th>acao</th>\n",
       "      <th>importancia</th>\n",
       "      <th>valor</th>\n",
       "      <th>importancia_por_valor</th>\n",
       "      <th>proporcao</th>\n",
       "    </tr>\n",
       "  </thead>\n",
       "  <tbody>\n",
       "    <tr>\n",
       "      <th>28</th>\n",
       "      <td>Suporte, atualização e licenciamento da plataf...</td>\n",
       "      <td>125</td>\n",
       "      <td>1853.42</td>\n",
       "      <td>0.067443</td>\n",
       "      <td>1</td>\n",
       "    </tr>\n",
       "    <tr>\n",
       "      <th>23</th>\n",
       "      <td>Suporte da Plataforma de virtualização do SGBD...</td>\n",
       "      <td>125</td>\n",
       "      <td>7208.00</td>\n",
       "      <td>0.017342</td>\n",
       "      <td>1</td>\n",
       "    </tr>\n",
       "    <tr>\n",
       "      <th>5</th>\n",
       "      <td>Certificados Digitais</td>\n",
       "      <td>45</td>\n",
       "      <td>6784.00</td>\n",
       "      <td>0.006633</td>\n",
       "      <td>1</td>\n",
       "    </tr>\n",
       "    <tr>\n",
       "      <th>24</th>\n",
       "      <td>Suporte e atualização de versão da plataforma ...</td>\n",
       "      <td>125</td>\n",
       "      <td>38493.05</td>\n",
       "      <td>0.003247</td>\n",
       "      <td>1</td>\n",
       "    </tr>\n",
       "    <tr>\n",
       "      <th>3</th>\n",
       "      <td>Canal de Comunicação com a internet - 1</td>\n",
       "      <td>125</td>\n",
       "      <td>62376.33</td>\n",
       "      <td>0.002004</td>\n",
       "      <td>1</td>\n",
       "    </tr>\n",
       "    <tr>\n",
       "      <th>4</th>\n",
       "      <td>Canal de Comunicação com a internet - 2</td>\n",
       "      <td>125</td>\n",
       "      <td>66140.32</td>\n",
       "      <td>0.001890</td>\n",
       "      <td>1</td>\n",
       "    </tr>\n",
       "    <tr>\n",
       "      <th>25</th>\n",
       "      <td>Suporte e atualização de versão da solução de ...</td>\n",
       "      <td>125</td>\n",
       "      <td>80995.94</td>\n",
       "      <td>0.001543</td>\n",
       "      <td>1</td>\n",
       "    </tr>\n",
       "    <tr>\n",
       "      <th>30</th>\n",
       "      <td>Sustentação da solução de Salvaguarda e Recupe...</td>\n",
       "      <td>125</td>\n",
       "      <td>96000.00</td>\n",
       "      <td>0.001302</td>\n",
       "      <td>1</td>\n",
       "    </tr>\n",
       "    <tr>\n",
       "      <th>19</th>\n",
       "      <td>Serviço de arquivamento de backup em nuvem</td>\n",
       "      <td>80</td>\n",
       "      <td>64800.00</td>\n",
       "      <td>0.001235</td>\n",
       "      <td>1</td>\n",
       "    </tr>\n",
       "    <tr>\n",
       "      <th>26</th>\n",
       "      <td>Suporte e atualização de versão dos servidores...</td>\n",
       "      <td>125</td>\n",
       "      <td>103774.00</td>\n",
       "      <td>0.001205</td>\n",
       "      <td>1</td>\n",
       "    </tr>\n",
       "    <tr>\n",
       "      <th>0</th>\n",
       "      <td>Acesso à base de dados da receita federal</td>\n",
       "      <td>8</td>\n",
       "      <td>7164.35</td>\n",
       "      <td>0.001117</td>\n",
       "      <td>1</td>\n",
       "    </tr>\n",
       "    <tr>\n",
       "      <th>13</th>\n",
       "      <td>Licenças de Business Intelligence</td>\n",
       "      <td>125</td>\n",
       "      <td>154824.33</td>\n",
       "      <td>0.000807</td>\n",
       "      <td>1</td>\n",
       "    </tr>\n",
       "    <tr>\n",
       "      <th>27</th>\n",
       "      <td>Suporte Oracle SGBD</td>\n",
       "      <td>125</td>\n",
       "      <td>192349.64</td>\n",
       "      <td>0.000650</td>\n",
       "      <td>1</td>\n",
       "    </tr>\n",
       "    <tr>\n",
       "      <th>9</th>\n",
       "      <td>Garantia e suporte para a solução de balanceam...</td>\n",
       "      <td>80</td>\n",
       "      <td>127120.50</td>\n",
       "      <td>0.000629</td>\n",
       "      <td>1</td>\n",
       "    </tr>\n",
       "    <tr>\n",
       "      <th>15</th>\n",
       "      <td>Outsourcing de impressão</td>\n",
       "      <td>100</td>\n",
       "      <td>210828.87</td>\n",
       "      <td>0.000474</td>\n",
       "      <td>1</td>\n",
       "    </tr>\n",
       "    <tr>\n",
       "      <th>11</th>\n",
       "      <td>LGPD - Ferramenta para mascaramento de informa...</td>\n",
       "      <td>27</td>\n",
       "      <td>75900.00</td>\n",
       "      <td>0.000356</td>\n",
       "      <td>1</td>\n",
       "    </tr>\n",
       "    <tr>\n",
       "      <th>21</th>\n",
       "      <td>Serviço de terceirização de atendimento ao usu...</td>\n",
       "      <td>125</td>\n",
       "      <td>413660.94</td>\n",
       "      <td>0.000302</td>\n",
       "      <td>1</td>\n",
       "    </tr>\n",
       "    <tr>\n",
       "      <th>7</th>\n",
       "      <td>Extensão de garantia e assistência técnica da ...</td>\n",
       "      <td>16</td>\n",
       "      <td>56000.00</td>\n",
       "      <td>0.000286</td>\n",
       "      <td>1</td>\n",
       "    </tr>\n",
       "    <tr>\n",
       "      <th>18</th>\n",
       "      <td>Segurança de Perímetro</td>\n",
       "      <td>125</td>\n",
       "      <td>479808.00</td>\n",
       "      <td>0.000261</td>\n",
       "      <td>1</td>\n",
       "    </tr>\n",
       "    <tr>\n",
       "      <th>29</th>\n",
       "      <td>Suporte, atualização e licenciamento da plataf...</td>\n",
       "      <td>125</td>\n",
       "      <td>502208.26</td>\n",
       "      <td>0.000249</td>\n",
       "      <td>1</td>\n",
       "    </tr>\n",
       "    <tr>\n",
       "      <th>22</th>\n",
       "      <td>Suporte à Ferramentas de diagnóstico e otimiza...</td>\n",
       "      <td>8</td>\n",
       "      <td>36883.44</td>\n",
       "      <td>0.000217</td>\n",
       "      <td>1</td>\n",
       "    </tr>\n",
       "    <tr>\n",
       "      <th>8</th>\n",
       "      <td>Fábrica de desenvolvimento de software</td>\n",
       "      <td>75</td>\n",
       "      <td>671086.17</td>\n",
       "      <td>0.000112</td>\n",
       "      <td>1</td>\n",
       "    </tr>\n",
       "    <tr>\n",
       "      <th>6</th>\n",
       "      <td>Extensão de garantia da rede sem fio</td>\n",
       "      <td>16</td>\n",
       "      <td>176000.00</td>\n",
       "      <td>0.000091</td>\n",
       "      <td>1</td>\n",
       "    </tr>\n",
       "    <tr>\n",
       "      <th>31</th>\n",
       "      <td>Sustentação de Software</td>\n",
       "      <td>36</td>\n",
       "      <td>404427.72</td>\n",
       "      <td>0.000089</td>\n",
       "      <td>1</td>\n",
       "    </tr>\n",
       "    <tr>\n",
       "      <th>12</th>\n",
       "      <td>LGPD - Ferramenta para mascaramento de informa...</td>\n",
       "      <td>27</td>\n",
       "      <td>346500.00</td>\n",
       "      <td>0.000078</td>\n",
       "      <td>1</td>\n",
       "    </tr>\n",
       "    <tr>\n",
       "      <th>10</th>\n",
       "      <td>LGPD - Contratação de solução que permita a in...</td>\n",
       "      <td>18</td>\n",
       "      <td>300000.00</td>\n",
       "      <td>0.000060</td>\n",
       "      <td>1</td>\n",
       "    </tr>\n",
       "    <tr>\n",
       "      <th>14</th>\n",
       "      <td>Material de consumo de TI</td>\n",
       "      <td>1</td>\n",
       "      <td>20000.00</td>\n",
       "      <td>0.000050</td>\n",
       "      <td>1</td>\n",
       "    </tr>\n",
       "    <tr>\n",
       "      <th>16</th>\n",
       "      <td>Renovação Infraestrutura de Servidores de Rede</td>\n",
       "      <td>45</td>\n",
       "      <td>1400000.00</td>\n",
       "      <td>0.000032</td>\n",
       "      <td>1</td>\n",
       "    </tr>\n",
       "    <tr>\n",
       "      <th>17</th>\n",
       "      <td>Renovação Subscrição de Suporte Oracle Linux (...</td>\n",
       "      <td>1</td>\n",
       "      <td>50000.00</td>\n",
       "      <td>0.000020</td>\n",
       "      <td>1</td>\n",
       "    </tr>\n",
       "  </tbody>\n",
       "</table>\n",
       "</div>"
      ],
      "text/plain": [
       "                                                 acao  importancia  \\\n",
       "28  Suporte, atualização e licenciamento da plataf...          125   \n",
       "23  Suporte da Plataforma de virtualização do SGBD...          125   \n",
       "5                               Certificados Digitais           45   \n",
       "24  Suporte e atualização de versão da plataforma ...          125   \n",
       "3             Canal de Comunicação com a internet - 1          125   \n",
       "4             Canal de Comunicação com a internet - 2          125   \n",
       "25  Suporte e atualização de versão da solução de ...          125   \n",
       "30  Sustentação da solução de Salvaguarda e Recupe...          125   \n",
       "19         Serviço de arquivamento de backup em nuvem           80   \n",
       "26  Suporte e atualização de versão dos servidores...          125   \n",
       "0          Acesso à base de dados da receita federal             8   \n",
       "13                  Licenças de Business Intelligence          125   \n",
       "27                                Suporte Oracle SGBD          125   \n",
       "9   Garantia e suporte para a solução de balanceam...           80   \n",
       "15                           Outsourcing de impressão          100   \n",
       "11  LGPD - Ferramenta para mascaramento de informa...           27   \n",
       "21  Serviço de terceirização de atendimento ao usu...          125   \n",
       "7   Extensão de garantia e assistência técnica da ...           16   \n",
       "18                             Segurança de Perímetro          125   \n",
       "29  Suporte, atualização e licenciamento da plataf...          125   \n",
       "22  Suporte à Ferramentas de diagnóstico e otimiza...            8   \n",
       "8              Fábrica de desenvolvimento de software           75   \n",
       "6               Extensão de garantia da rede sem fio            16   \n",
       "31                            Sustentação de Software           36   \n",
       "12  LGPD - Ferramenta para mascaramento de informa...           27   \n",
       "10  LGPD - Contratação de solução que permita a in...           18   \n",
       "14                          Material de consumo de TI            1   \n",
       "16    Renovação Infraestrutura de Servidores de Rede            45   \n",
       "17  Renovação Subscrição de Suporte Oracle Linux (...            1   \n",
       "\n",
       "         valor  importancia_por_valor  proporcao  \n",
       "28     1853.42               0.067443          1  \n",
       "23     7208.00               0.017342          1  \n",
       "5      6784.00               0.006633          1  \n",
       "24    38493.05               0.003247          1  \n",
       "3     62376.33               0.002004          1  \n",
       "4     66140.32               0.001890          1  \n",
       "25    80995.94               0.001543          1  \n",
       "30    96000.00               0.001302          1  \n",
       "19    64800.00               0.001235          1  \n",
       "26   103774.00               0.001205          1  \n",
       "0      7164.35               0.001117          1  \n",
       "13   154824.33               0.000807          1  \n",
       "27   192349.64               0.000650          1  \n",
       "9    127120.50               0.000629          1  \n",
       "15   210828.87               0.000474          1  \n",
       "11    75900.00               0.000356          1  \n",
       "21   413660.94               0.000302          1  \n",
       "7     56000.00               0.000286          1  \n",
       "18   479808.00               0.000261          1  \n",
       "29   502208.26               0.000249          1  \n",
       "22    36883.44               0.000217          1  \n",
       "8    671086.17               0.000112          1  \n",
       "6    176000.00               0.000091          1  \n",
       "31   404427.72               0.000089          1  \n",
       "12   346500.00               0.000078          1  \n",
       "10   300000.00               0.000060          1  \n",
       "14    20000.00               0.000050          1  \n",
       "16  1400000.00               0.000032          1  \n",
       "17    50000.00               0.000020          1  "
      ]
     },
     "execution_count": 8,
     "metadata": {},
     "output_type": "execute_result"
    }
   ],
   "source": [
    "itens_selecionados = itens_retornados.query(\"proporcao == 1\")\n",
    "itens_selecionados"
   ]
  },
  {
   "cell_type": "markdown",
   "metadata": {
    "pycharm": {
     "name": "#%% md\n"
    }
   },
   "source": [
    "Itens rejeitados"
   ]
  },
  {
   "cell_type": "code",
   "execution_count": 9,
   "metadata": {
    "pycharm": {
     "name": "#%%\n"
    }
   },
   "outputs": [
    {
     "data": {
      "text/html": [
       "<div>\n",
       "<style scoped>\n",
       "    .dataframe tbody tr th:only-of-type {\n",
       "        vertical-align: middle;\n",
       "    }\n",
       "\n",
       "    .dataframe tbody tr th {\n",
       "        vertical-align: top;\n",
       "    }\n",
       "\n",
       "    .dataframe thead th {\n",
       "        text-align: right;\n",
       "    }\n",
       "</style>\n",
       "<table border=\"1\" class=\"dataframe\">\n",
       "  <thead>\n",
       "    <tr style=\"text-align: right;\">\n",
       "      <th></th>\n",
       "      <th>acao</th>\n",
       "      <th>importancia</th>\n",
       "      <th>valor</th>\n",
       "      <th>importancia_por_valor</th>\n",
       "      <th>proporcao</th>\n",
       "    </tr>\n",
       "  </thead>\n",
       "  <tbody>\n",
       "    <tr>\n",
       "      <th>1</th>\n",
       "      <td>Big Data Nuvem</td>\n",
       "      <td>18</td>\n",
       "      <td>480000.0</td>\n",
       "      <td>0.000037</td>\n",
       "      <td>0</td>\n",
       "    </tr>\n",
       "    <tr>\n",
       "      <th>2</th>\n",
       "      <td>Big Data Nuvem</td>\n",
       "      <td>18</td>\n",
       "      <td>480000.0</td>\n",
       "      <td>0.000037</td>\n",
       "      <td>0</td>\n",
       "    </tr>\n",
       "    <tr>\n",
       "      <th>20</th>\n",
       "      <td>Serviço de consultoria estratégica em Tecnolog...</td>\n",
       "      <td>1</td>\n",
       "      <td>532968.0</td>\n",
       "      <td>0.000002</td>\n",
       "      <td>0</td>\n",
       "    </tr>\n",
       "  </tbody>\n",
       "</table>\n",
       "</div>"
      ],
      "text/plain": [
       "                                                 acao  importancia     valor  \\\n",
       "1                                      Big Data Nuvem           18  480000.0   \n",
       "2                                      Big Data Nuvem           18  480000.0   \n",
       "20  Serviço de consultoria estratégica em Tecnolog...            1  532968.0   \n",
       "\n",
       "    importancia_por_valor  proporcao  \n",
       "1                0.000037          0  \n",
       "2                0.000037          0  \n",
       "20               0.000002          0  "
      ]
     },
     "execution_count": 9,
     "metadata": {},
     "output_type": "execute_result"
    }
   ],
   "source": [
    "itens_rejeitados = itens_retornados.query(\"proporcao == 0\")\n",
    "itens_rejeitados"
   ]
  },
  {
   "cell_type": "markdown",
   "metadata": {
    "pycharm": {
     "name": "#%% md\n"
    }
   },
   "source": [
    "Compilando as estastísticas do algoritmo"
   ]
  },
  {
   "cell_type": "code",
   "execution_count": 10,
   "metadata": {
    "pycharm": {
     "name": "#%%\n"
    }
   },
   "outputs": [],
   "source": [
    "dicionario_estatistica = {\"algoritmo\": [str(knapsack)],\n",
    "                          \"inicio_processamento\": [inicio_processamento],\n",
    "                          \"fim_processamento\": [fim_processamento],\n",
    "                          \"tempo_processamento\": [tempo_processamento.total_seconds() * 1000],\n",
    "                          \"importancia_maxima\": [importancia_maxima],\n",
    "                          \"valor_maximo\": [valor_maximo],\n",
    "                          \"itens_selecionados\": [len(itens_selecionados)],\n",
    "                          \"itens_rejeitados\": [len(itens_rejeitados)]}\n",
    "\n",
    "estatistica = pd.DataFrame(dicionario_estatistica)\n",
    "estatisticas = pd.concat([estatisticas, estatistica], ignore_index=True)"
   ]
  },
  {
   "cell_type": "markdown",
   "metadata": {
    "pycharm": {
     "name": "#%% md\n"
    }
   },
   "source": [
    "## Algoritmos Aproximados\n",
    "---"
   ]
  },
  {
   "cell_type": "markdown",
   "metadata": {
    "pycharm": {
     "name": "#%% md\n"
    }
   },
   "source": [
    "### Algoritmo Guloso\n",
    "\n",
    "Algoritmo guloso é técnica de projeto de algoritmos que tenta resolver o problema fazendo a escolha localmente ótima em cada fase com a esperança de encontrar um ótimo global.\n",
    "\n",
    "Na solução de alguns problemas combinatórios a estratégia gulosa pode assegurar a obtenção de soluções ótimas, o que não é muito comum. No entanto, quando o problema a ser resolvido pertencer à classe NP-completo ou NP-difícil, a estratégia gulosa torna-se atrativa para a obtenção de solução aproximada em tempo polinomial."
   ]
  },
  {
   "cell_type": "markdown",
   "metadata": {
    "pycharm": {
     "name": "#%% md\n"
    }
   },
   "source": [
    "Importando a classe que implementa o algoritmo"
   ]
  },
  {
   "cell_type": "code",
   "execution_count": 11,
   "metadata": {
    "pycharm": {
     "name": "#%%\n"
    }
   },
   "outputs": [],
   "source": [
    "from algoritmos_aproximados import GreedyKnapsack"
   ]
  },
  {
   "cell_type": "markdown",
   "metadata": {
    "pycharm": {
     "name": "#%% md\n"
    }
   },
   "source": [
    "Solucionando o problema para o conjunto de dados especificado"
   ]
  },
  {
   "cell_type": "code",
   "execution_count": 12,
   "metadata": {
    "pycharm": {
     "name": "#%%\n"
    }
   },
   "outputs": [
    {
     "name": "stdout",
     "output_type": "stream",
     "text": [
      "Início do processamento: 2022-09-08 18:34:49.322874\n",
      "Fim do processamento: 2022-09-08 18:34:49.326875\n",
      "Tempo de processamento: 0:00:00.004001\n"
     ]
    }
   ],
   "source": [
    "inicio_processamento = datetime.now()\n",
    "print(\"Início do processamento:\", inicio_processamento)\n",
    "\n",
    "knapsack = GreedyKnapsack(valor_disponivel, itens)\n",
    "itens_retornados = knapsack.solucionar()\n",
    "\n",
    "fim_processamento = datetime.now()\n",
    "tempo_processamento = fim_processamento - inicio_processamento\n",
    "print(\"Fim do processamento:\", fim_processamento)\n",
    "print(\"Tempo de processamento:\", tempo_processamento)"
   ]
  },
  {
   "cell_type": "code",
   "execution_count": 13,
   "metadata": {
    "pycharm": {
     "name": "#%%\n"
    }
   },
   "outputs": [
    {
     "name": "stdout",
     "output_type": "stream",
     "text": [
      "Algoritmo utilizado: Algoritmo Guloso\n",
      "Importância máxima obtida: 2199\n",
      "Valor máximo obtido: R$5713187.28\n"
     ]
    }
   ],
   "source": [
    "print(\"Algoritmo utilizado:\", knapsack)\n",
    "importancia_maxima = itens_retornados.query('proporcao == 1').importancia.sum()\n",
    "valor_maximo = itens_retornados.query('proporcao == 1').valor.sum()\n",
    "print(f\"Importância máxima obtida: {importancia_maxima}\")\n",
    "print(f\"Valor máximo obtido: R${valor_maximo:0.2f}\")"
   ]
  },
  {
   "cell_type": "markdown",
   "metadata": {
    "pycharm": {
     "name": "#%% md\n"
    }
   },
   "source": [
    "Itens selecionados"
   ]
  },
  {
   "cell_type": "code",
   "execution_count": 14,
   "metadata": {
    "pycharm": {
     "name": "#%%\n"
    }
   },
   "outputs": [
    {
     "data": {
      "text/html": [
       "<div>\n",
       "<style scoped>\n",
       "    .dataframe tbody tr th:only-of-type {\n",
       "        vertical-align: middle;\n",
       "    }\n",
       "\n",
       "    .dataframe tbody tr th {\n",
       "        vertical-align: top;\n",
       "    }\n",
       "\n",
       "    .dataframe thead th {\n",
       "        text-align: right;\n",
       "    }\n",
       "</style>\n",
       "<table border=\"1\" class=\"dataframe\">\n",
       "  <thead>\n",
       "    <tr style=\"text-align: right;\">\n",
       "      <th></th>\n",
       "      <th>acao</th>\n",
       "      <th>importancia</th>\n",
       "      <th>valor</th>\n",
       "      <th>importancia_por_valor</th>\n",
       "      <th>proporcao</th>\n",
       "    </tr>\n",
       "  </thead>\n",
       "  <tbody>\n",
       "    <tr>\n",
       "      <th>28</th>\n",
       "      <td>Suporte, atualização e licenciamento da plataf...</td>\n",
       "      <td>125</td>\n",
       "      <td>1853.42</td>\n",
       "      <td>0.067443</td>\n",
       "      <td>1</td>\n",
       "    </tr>\n",
       "    <tr>\n",
       "      <th>23</th>\n",
       "      <td>Suporte da Plataforma de virtualização do SGBD...</td>\n",
       "      <td>125</td>\n",
       "      <td>7208.00</td>\n",
       "      <td>0.017342</td>\n",
       "      <td>1</td>\n",
       "    </tr>\n",
       "    <tr>\n",
       "      <th>5</th>\n",
       "      <td>Certificados Digitais</td>\n",
       "      <td>45</td>\n",
       "      <td>6784.00</td>\n",
       "      <td>0.006633</td>\n",
       "      <td>1</td>\n",
       "    </tr>\n",
       "    <tr>\n",
       "      <th>24</th>\n",
       "      <td>Suporte e atualização de versão da plataforma ...</td>\n",
       "      <td>125</td>\n",
       "      <td>38493.05</td>\n",
       "      <td>0.003247</td>\n",
       "      <td>1</td>\n",
       "    </tr>\n",
       "    <tr>\n",
       "      <th>3</th>\n",
       "      <td>Canal de Comunicação com a internet - 1</td>\n",
       "      <td>125</td>\n",
       "      <td>62376.33</td>\n",
       "      <td>0.002004</td>\n",
       "      <td>1</td>\n",
       "    </tr>\n",
       "    <tr>\n",
       "      <th>4</th>\n",
       "      <td>Canal de Comunicação com a internet - 2</td>\n",
       "      <td>125</td>\n",
       "      <td>66140.32</td>\n",
       "      <td>0.001890</td>\n",
       "      <td>1</td>\n",
       "    </tr>\n",
       "    <tr>\n",
       "      <th>25</th>\n",
       "      <td>Suporte e atualização de versão da solução de ...</td>\n",
       "      <td>125</td>\n",
       "      <td>80995.94</td>\n",
       "      <td>0.001543</td>\n",
       "      <td>1</td>\n",
       "    </tr>\n",
       "    <tr>\n",
       "      <th>30</th>\n",
       "      <td>Sustentação da solução de Salvaguarda e Recupe...</td>\n",
       "      <td>125</td>\n",
       "      <td>96000.00</td>\n",
       "      <td>0.001302</td>\n",
       "      <td>1</td>\n",
       "    </tr>\n",
       "    <tr>\n",
       "      <th>19</th>\n",
       "      <td>Serviço de arquivamento de backup em nuvem</td>\n",
       "      <td>80</td>\n",
       "      <td>64800.00</td>\n",
       "      <td>0.001235</td>\n",
       "      <td>1</td>\n",
       "    </tr>\n",
       "    <tr>\n",
       "      <th>26</th>\n",
       "      <td>Suporte e atualização de versão dos servidores...</td>\n",
       "      <td>125</td>\n",
       "      <td>103774.00</td>\n",
       "      <td>0.001205</td>\n",
       "      <td>1</td>\n",
       "    </tr>\n",
       "    <tr>\n",
       "      <th>0</th>\n",
       "      <td>Acesso à base de dados da receita federal</td>\n",
       "      <td>8</td>\n",
       "      <td>7164.35</td>\n",
       "      <td>0.001117</td>\n",
       "      <td>1</td>\n",
       "    </tr>\n",
       "    <tr>\n",
       "      <th>13</th>\n",
       "      <td>Licenças de Business Intelligence</td>\n",
       "      <td>125</td>\n",
       "      <td>154824.33</td>\n",
       "      <td>0.000807</td>\n",
       "      <td>1</td>\n",
       "    </tr>\n",
       "    <tr>\n",
       "      <th>27</th>\n",
       "      <td>Suporte Oracle SGBD</td>\n",
       "      <td>125</td>\n",
       "      <td>192349.64</td>\n",
       "      <td>0.000650</td>\n",
       "      <td>1</td>\n",
       "    </tr>\n",
       "    <tr>\n",
       "      <th>9</th>\n",
       "      <td>Garantia e suporte para a solução de balanceam...</td>\n",
       "      <td>80</td>\n",
       "      <td>127120.50</td>\n",
       "      <td>0.000629</td>\n",
       "      <td>1</td>\n",
       "    </tr>\n",
       "    <tr>\n",
       "      <th>15</th>\n",
       "      <td>Outsourcing de impressão</td>\n",
       "      <td>100</td>\n",
       "      <td>210828.87</td>\n",
       "      <td>0.000474</td>\n",
       "      <td>1</td>\n",
       "    </tr>\n",
       "    <tr>\n",
       "      <th>11</th>\n",
       "      <td>LGPD - Ferramenta para mascaramento de informa...</td>\n",
       "      <td>27</td>\n",
       "      <td>75900.00</td>\n",
       "      <td>0.000356</td>\n",
       "      <td>1</td>\n",
       "    </tr>\n",
       "    <tr>\n",
       "      <th>21</th>\n",
       "      <td>Serviço de terceirização de atendimento ao usu...</td>\n",
       "      <td>125</td>\n",
       "      <td>413660.94</td>\n",
       "      <td>0.000302</td>\n",
       "      <td>1</td>\n",
       "    </tr>\n",
       "    <tr>\n",
       "      <th>7</th>\n",
       "      <td>Extensão de garantia e assistência técnica da ...</td>\n",
       "      <td>16</td>\n",
       "      <td>56000.00</td>\n",
       "      <td>0.000286</td>\n",
       "      <td>1</td>\n",
       "    </tr>\n",
       "    <tr>\n",
       "      <th>18</th>\n",
       "      <td>Segurança de Perímetro</td>\n",
       "      <td>125</td>\n",
       "      <td>479808.00</td>\n",
       "      <td>0.000261</td>\n",
       "      <td>1</td>\n",
       "    </tr>\n",
       "    <tr>\n",
       "      <th>29</th>\n",
       "      <td>Suporte, atualização e licenciamento da plataf...</td>\n",
       "      <td>125</td>\n",
       "      <td>502208.26</td>\n",
       "      <td>0.000249</td>\n",
       "      <td>1</td>\n",
       "    </tr>\n",
       "    <tr>\n",
       "      <th>22</th>\n",
       "      <td>Suporte à Ferramentas de diagnóstico e otimiza...</td>\n",
       "      <td>8</td>\n",
       "      <td>36883.44</td>\n",
       "      <td>0.000217</td>\n",
       "      <td>1</td>\n",
       "    </tr>\n",
       "    <tr>\n",
       "      <th>8</th>\n",
       "      <td>Fábrica de desenvolvimento de software</td>\n",
       "      <td>75</td>\n",
       "      <td>671086.17</td>\n",
       "      <td>0.000112</td>\n",
       "      <td>1</td>\n",
       "    </tr>\n",
       "    <tr>\n",
       "      <th>6</th>\n",
       "      <td>Extensão de garantia da rede sem fio</td>\n",
       "      <td>16</td>\n",
       "      <td>176000.00</td>\n",
       "      <td>0.000091</td>\n",
       "      <td>1</td>\n",
       "    </tr>\n",
       "    <tr>\n",
       "      <th>31</th>\n",
       "      <td>Sustentação de Software</td>\n",
       "      <td>36</td>\n",
       "      <td>404427.72</td>\n",
       "      <td>0.000089</td>\n",
       "      <td>1</td>\n",
       "    </tr>\n",
       "    <tr>\n",
       "      <th>12</th>\n",
       "      <td>LGPD - Ferramenta para mascaramento de informa...</td>\n",
       "      <td>27</td>\n",
       "      <td>346500.00</td>\n",
       "      <td>0.000078</td>\n",
       "      <td>1</td>\n",
       "    </tr>\n",
       "    <tr>\n",
       "      <th>10</th>\n",
       "      <td>LGPD - Contratação de solução que permita a in...</td>\n",
       "      <td>18</td>\n",
       "      <td>300000.00</td>\n",
       "      <td>0.000060</td>\n",
       "      <td>1</td>\n",
       "    </tr>\n",
       "    <tr>\n",
       "      <th>14</th>\n",
       "      <td>Material de consumo de TI</td>\n",
       "      <td>1</td>\n",
       "      <td>20000.00</td>\n",
       "      <td>0.000050</td>\n",
       "      <td>1</td>\n",
       "    </tr>\n",
       "    <tr>\n",
       "      <th>1</th>\n",
       "      <td>Big Data Nuvem</td>\n",
       "      <td>18</td>\n",
       "      <td>480000.00</td>\n",
       "      <td>0.000037</td>\n",
       "      <td>1</td>\n",
       "    </tr>\n",
       "    <tr>\n",
       "      <th>2</th>\n",
       "      <td>Big Data Nuvem</td>\n",
       "      <td>18</td>\n",
       "      <td>480000.00</td>\n",
       "      <td>0.000037</td>\n",
       "      <td>1</td>\n",
       "    </tr>\n",
       "    <tr>\n",
       "      <th>17</th>\n",
       "      <td>Renovação Subscrição de Suporte Oracle Linux (...</td>\n",
       "      <td>1</td>\n",
       "      <td>50000.00</td>\n",
       "      <td>0.000020</td>\n",
       "      <td>1</td>\n",
       "    </tr>\n",
       "  </tbody>\n",
       "</table>\n",
       "</div>"
      ],
      "text/plain": [
       "                                                 acao  importancia      valor  \\\n",
       "28  Suporte, atualização e licenciamento da plataf...          125    1853.42   \n",
       "23  Suporte da Plataforma de virtualização do SGBD...          125    7208.00   \n",
       "5                               Certificados Digitais           45    6784.00   \n",
       "24  Suporte e atualização de versão da plataforma ...          125   38493.05   \n",
       "3             Canal de Comunicação com a internet - 1          125   62376.33   \n",
       "4             Canal de Comunicação com a internet - 2          125   66140.32   \n",
       "25  Suporte e atualização de versão da solução de ...          125   80995.94   \n",
       "30  Sustentação da solução de Salvaguarda e Recupe...          125   96000.00   \n",
       "19         Serviço de arquivamento de backup em nuvem           80   64800.00   \n",
       "26  Suporte e atualização de versão dos servidores...          125  103774.00   \n",
       "0          Acesso à base de dados da receita federal             8    7164.35   \n",
       "13                  Licenças de Business Intelligence          125  154824.33   \n",
       "27                                Suporte Oracle SGBD          125  192349.64   \n",
       "9   Garantia e suporte para a solução de balanceam...           80  127120.50   \n",
       "15                           Outsourcing de impressão          100  210828.87   \n",
       "11  LGPD - Ferramenta para mascaramento de informa...           27   75900.00   \n",
       "21  Serviço de terceirização de atendimento ao usu...          125  413660.94   \n",
       "7   Extensão de garantia e assistência técnica da ...           16   56000.00   \n",
       "18                             Segurança de Perímetro          125  479808.00   \n",
       "29  Suporte, atualização e licenciamento da plataf...          125  502208.26   \n",
       "22  Suporte à Ferramentas de diagnóstico e otimiza...            8   36883.44   \n",
       "8              Fábrica de desenvolvimento de software           75  671086.17   \n",
       "6               Extensão de garantia da rede sem fio            16  176000.00   \n",
       "31                            Sustentação de Software           36  404427.72   \n",
       "12  LGPD - Ferramenta para mascaramento de informa...           27  346500.00   \n",
       "10  LGPD - Contratação de solução que permita a in...           18  300000.00   \n",
       "14                          Material de consumo de TI            1   20000.00   \n",
       "1                                      Big Data Nuvem           18  480000.00   \n",
       "2                                      Big Data Nuvem           18  480000.00   \n",
       "17  Renovação Subscrição de Suporte Oracle Linux (...            1   50000.00   \n",
       "\n",
       "    importancia_por_valor  proporcao  \n",
       "28               0.067443          1  \n",
       "23               0.017342          1  \n",
       "5                0.006633          1  \n",
       "24               0.003247          1  \n",
       "3                0.002004          1  \n",
       "4                0.001890          1  \n",
       "25               0.001543          1  \n",
       "30               0.001302          1  \n",
       "19               0.001235          1  \n",
       "26               0.001205          1  \n",
       "0                0.001117          1  \n",
       "13               0.000807          1  \n",
       "27               0.000650          1  \n",
       "9                0.000629          1  \n",
       "15               0.000474          1  \n",
       "11               0.000356          1  \n",
       "21               0.000302          1  \n",
       "7                0.000286          1  \n",
       "18               0.000261          1  \n",
       "29               0.000249          1  \n",
       "22               0.000217          1  \n",
       "8                0.000112          1  \n",
       "6                0.000091          1  \n",
       "31               0.000089          1  \n",
       "12               0.000078          1  \n",
       "10               0.000060          1  \n",
       "14               0.000050          1  \n",
       "1                0.000037          1  \n",
       "2                0.000037          1  \n",
       "17               0.000020          1  "
      ]
     },
     "execution_count": 14,
     "metadata": {},
     "output_type": "execute_result"
    }
   ],
   "source": [
    "itens_selecionados = itens_retornados.query(\"proporcao == 1\")\n",
    "itens_selecionados"
   ]
  },
  {
   "cell_type": "markdown",
   "metadata": {
    "pycharm": {
     "name": "#%% md\n"
    }
   },
   "source": [
    "Itens rejeitados"
   ]
  },
  {
   "cell_type": "code",
   "execution_count": 15,
   "metadata": {
    "pycharm": {
     "name": "#%%\n"
    }
   },
   "outputs": [
    {
     "data": {
      "text/html": [
       "<div>\n",
       "<style scoped>\n",
       "    .dataframe tbody tr th:only-of-type {\n",
       "        vertical-align: middle;\n",
       "    }\n",
       "\n",
       "    .dataframe tbody tr th {\n",
       "        vertical-align: top;\n",
       "    }\n",
       "\n",
       "    .dataframe thead th {\n",
       "        text-align: right;\n",
       "    }\n",
       "</style>\n",
       "<table border=\"1\" class=\"dataframe\">\n",
       "  <thead>\n",
       "    <tr style=\"text-align: right;\">\n",
       "      <th></th>\n",
       "      <th>acao</th>\n",
       "      <th>importancia</th>\n",
       "      <th>valor</th>\n",
       "      <th>importancia_por_valor</th>\n",
       "      <th>proporcao</th>\n",
       "    </tr>\n",
       "  </thead>\n",
       "  <tbody>\n",
       "    <tr>\n",
       "      <th>16</th>\n",
       "      <td>Renovação Infraestrutura de Servidores de Rede</td>\n",
       "      <td>45</td>\n",
       "      <td>1400000.0</td>\n",
       "      <td>0.000032</td>\n",
       "      <td>0</td>\n",
       "    </tr>\n",
       "    <tr>\n",
       "      <th>20</th>\n",
       "      <td>Serviço de consultoria estratégica em Tecnolog...</td>\n",
       "      <td>1</td>\n",
       "      <td>532968.0</td>\n",
       "      <td>0.000002</td>\n",
       "      <td>0</td>\n",
       "    </tr>\n",
       "  </tbody>\n",
       "</table>\n",
       "</div>"
      ],
      "text/plain": [
       "                                                 acao  importancia      valor  \\\n",
       "16    Renovação Infraestrutura de Servidores de Rede            45  1400000.0   \n",
       "20  Serviço de consultoria estratégica em Tecnolog...            1   532968.0   \n",
       "\n",
       "    importancia_por_valor  proporcao  \n",
       "16               0.000032          0  \n",
       "20               0.000002          0  "
      ]
     },
     "execution_count": 15,
     "metadata": {},
     "output_type": "execute_result"
    }
   ],
   "source": [
    "itens_rejeitados = itens_retornados.query(\"proporcao == 0\")\n",
    "itens_rejeitados"
   ]
  },
  {
   "cell_type": "markdown",
   "metadata": {
    "pycharm": {
     "name": "#%% md\n"
    }
   },
   "source": [
    "Compilando as estastísticas do algoritmo"
   ]
  },
  {
   "cell_type": "code",
   "execution_count": 16,
   "metadata": {
    "pycharm": {
     "name": "#%%\n"
    }
   },
   "outputs": [],
   "source": [
    "dicionario_estatistica = {\"algoritmo\": [str(knapsack)],\n",
    "                          \"inicio_processamento\": [inicio_processamento],\n",
    "                          \"fim_processamento\": [fim_processamento],\n",
    "                          \"tempo_processamento\": [tempo_processamento.total_seconds() * 1000],\n",
    "                          \"importancia_maxima\": [importancia_maxima],\n",
    "                          \"valor_maximo\": [valor_maximo],\n",
    "                          \"itens_selecionados\": [len(itens_selecionados)],\n",
    "                          \"itens_rejeitados\": [len(itens_rejeitados)]}\n",
    "\n",
    "estatistica = pd.DataFrame(dicionario_estatistica)\n",
    "estatisticas = pd.concat([estatisticas, estatistica], ignore_index=True)"
   ]
  },
  {
   "cell_type": "markdown",
   "metadata": {
    "pycharm": {
     "name": "#%% md\n"
    }
   },
   "source": [
    "### Busca Tabu\n",
    "A Busca Tabu, algoritmo proposto por Glover na sua forma atual em 1986, é uma Meta-heurística, ou procedimento adaptativo auxiliar, que guia um algoritmo de busca local na exploração contínua dentro de um espaço de busca. Aqui a implementação tenta melhorar o resultado obtido a partir de uma heurística gulosa.\n",
    "\n",
    "A partir de uma solução inicial, que pode ser escolhida de acordo com algum dentre vários critérios possíveis, tenta avançar, a cada iteração, para uma outra solução (melhor que a anterior) não aceitando movimentos que levem a soluções já visitadas, que permanecem em uma lista tabu.\n",
    "\n",
    "Essa lista permanece na memória, durante determinado espaço de tempo ou certo número de iterações sem que haja melhora na solução(prazo tabu), opção esta adotada nessa implementação (prazo tabu = 50 iterações)."
   ]
  },
  {
   "cell_type": "markdown",
   "metadata": {
    "pycharm": {
     "name": "#%% md\n"
    }
   },
   "source": [
    "Importando a classe que implementa o algoritmo"
   ]
  },
  {
   "cell_type": "code",
   "execution_count": 17,
   "metadata": {
    "pycharm": {
     "name": "#%%\n"
    }
   },
   "outputs": [],
   "source": [
    "from algoritmos_aproximados import TabuSearchKnapsack"
   ]
  },
  {
   "cell_type": "markdown",
   "metadata": {
    "pycharm": {
     "name": "#%% md\n"
    }
   },
   "source": [
    "Solucionando o problema para o conjunto de dados especificado"
   ]
  },
  {
   "cell_type": "code",
   "execution_count": 18,
   "metadata": {
    "pycharm": {
     "name": "#%%\n"
    }
   },
   "outputs": [
    {
     "name": "stdout",
     "output_type": "stream",
     "text": [
      "Início do processamento: 2022-09-08 18:34:49.569930\n",
      "Fim do processamento: 2022-09-08 18:34:50.122054\n",
      "Tempo de processamento: 0:00:00.552124\n"
     ]
    }
   ],
   "source": [
    "inicio_processamento = datetime.now()\n",
    "print(\"Início do processamento:\", inicio_processamento)\n",
    "\n",
    "knapsack = TabuSearchKnapsack(valor_disponivel, itens)\n",
    "itens_retornados = knapsack.solucionar()\n",
    "\n",
    "fim_processamento = datetime.now()\n",
    "tempo_processamento = fim_processamento - inicio_processamento\n",
    "print(\"Fim do processamento:\", fim_processamento)\n",
    "print(\"Tempo de processamento:\", tempo_processamento)"
   ]
  },
  {
   "cell_type": "code",
   "execution_count": 19,
   "metadata": {
    "pycharm": {
     "name": "#%%\n"
    }
   },
   "outputs": [
    {
     "name": "stdout",
     "output_type": "stream",
     "text": [
      "Algoritmo utilizado: Busca Tabu\n",
      "Importância máxima obtida: 2199\n",
      "Valor máximo obtido: R$5713187.28\n"
     ]
    }
   ],
   "source": [
    "print(\"Algoritmo utilizado:\", knapsack)\n",
    "importancia_maxima = itens_retornados.query('proporcao == 1').importancia.sum()\n",
    "valor_maximo = itens_retornados.query('proporcao == 1').valor.sum()\n",
    "print(f\"Importância máxima obtida: {importancia_maxima}\")\n",
    "print(f\"Valor máximo obtido: R${valor_maximo:0.2f}\")"
   ]
  },
  {
   "cell_type": "markdown",
   "metadata": {
    "pycharm": {
     "name": "#%% md\n"
    }
   },
   "source": [
    "Itens selecionados"
   ]
  },
  {
   "cell_type": "code",
   "execution_count": 20,
   "metadata": {
    "pycharm": {
     "name": "#%%\n"
    }
   },
   "outputs": [
    {
     "data": {
      "text/html": [
       "<div>\n",
       "<style scoped>\n",
       "    .dataframe tbody tr th:only-of-type {\n",
       "        vertical-align: middle;\n",
       "    }\n",
       "\n",
       "    .dataframe tbody tr th {\n",
       "        vertical-align: top;\n",
       "    }\n",
       "\n",
       "    .dataframe thead th {\n",
       "        text-align: right;\n",
       "    }\n",
       "</style>\n",
       "<table border=\"1\" class=\"dataframe\">\n",
       "  <thead>\n",
       "    <tr style=\"text-align: right;\">\n",
       "      <th></th>\n",
       "      <th>acao</th>\n",
       "      <th>importancia</th>\n",
       "      <th>valor</th>\n",
       "      <th>importancia_por_valor</th>\n",
       "      <th>proporcao</th>\n",
       "    </tr>\n",
       "  </thead>\n",
       "  <tbody>\n",
       "    <tr>\n",
       "      <th>0</th>\n",
       "      <td>Acesso à base de dados da receita federal</td>\n",
       "      <td>8</td>\n",
       "      <td>7164.35</td>\n",
       "      <td>0.001117</td>\n",
       "      <td>1</td>\n",
       "    </tr>\n",
       "    <tr>\n",
       "      <th>1</th>\n",
       "      <td>Big Data Nuvem</td>\n",
       "      <td>18</td>\n",
       "      <td>480000.00</td>\n",
       "      <td>0.000037</td>\n",
       "      <td>1</td>\n",
       "    </tr>\n",
       "    <tr>\n",
       "      <th>2</th>\n",
       "      <td>Big Data Nuvem</td>\n",
       "      <td>18</td>\n",
       "      <td>480000.00</td>\n",
       "      <td>0.000037</td>\n",
       "      <td>1</td>\n",
       "    </tr>\n",
       "    <tr>\n",
       "      <th>3</th>\n",
       "      <td>Canal de Comunicação com a internet - 1</td>\n",
       "      <td>125</td>\n",
       "      <td>62376.33</td>\n",
       "      <td>0.002004</td>\n",
       "      <td>1</td>\n",
       "    </tr>\n",
       "    <tr>\n",
       "      <th>4</th>\n",
       "      <td>Canal de Comunicação com a internet - 2</td>\n",
       "      <td>125</td>\n",
       "      <td>66140.32</td>\n",
       "      <td>0.001890</td>\n",
       "      <td>1</td>\n",
       "    </tr>\n",
       "    <tr>\n",
       "      <th>5</th>\n",
       "      <td>Certificados Digitais</td>\n",
       "      <td>45</td>\n",
       "      <td>6784.00</td>\n",
       "      <td>0.006633</td>\n",
       "      <td>1</td>\n",
       "    </tr>\n",
       "    <tr>\n",
       "      <th>6</th>\n",
       "      <td>Extensão de garantia da rede sem fio</td>\n",
       "      <td>16</td>\n",
       "      <td>176000.00</td>\n",
       "      <td>0.000091</td>\n",
       "      <td>1</td>\n",
       "    </tr>\n",
       "    <tr>\n",
       "      <th>7</th>\n",
       "      <td>Extensão de garantia e assistência técnica da ...</td>\n",
       "      <td>16</td>\n",
       "      <td>56000.00</td>\n",
       "      <td>0.000286</td>\n",
       "      <td>1</td>\n",
       "    </tr>\n",
       "    <tr>\n",
       "      <th>8</th>\n",
       "      <td>Fábrica de desenvolvimento de software</td>\n",
       "      <td>75</td>\n",
       "      <td>671086.17</td>\n",
       "      <td>0.000112</td>\n",
       "      <td>1</td>\n",
       "    </tr>\n",
       "    <tr>\n",
       "      <th>9</th>\n",
       "      <td>Garantia e suporte para a solução de balanceam...</td>\n",
       "      <td>80</td>\n",
       "      <td>127120.50</td>\n",
       "      <td>0.000629</td>\n",
       "      <td>1</td>\n",
       "    </tr>\n",
       "    <tr>\n",
       "      <th>10</th>\n",
       "      <td>LGPD - Contratação de solução que permita a in...</td>\n",
       "      <td>18</td>\n",
       "      <td>300000.00</td>\n",
       "      <td>0.000060</td>\n",
       "      <td>1</td>\n",
       "    </tr>\n",
       "    <tr>\n",
       "      <th>11</th>\n",
       "      <td>LGPD - Ferramenta para mascaramento de informa...</td>\n",
       "      <td>27</td>\n",
       "      <td>75900.00</td>\n",
       "      <td>0.000356</td>\n",
       "      <td>1</td>\n",
       "    </tr>\n",
       "    <tr>\n",
       "      <th>12</th>\n",
       "      <td>LGPD - Ferramenta para mascaramento de informa...</td>\n",
       "      <td>27</td>\n",
       "      <td>346500.00</td>\n",
       "      <td>0.000078</td>\n",
       "      <td>1</td>\n",
       "    </tr>\n",
       "    <tr>\n",
       "      <th>13</th>\n",
       "      <td>Licenças de Business Intelligence</td>\n",
       "      <td>125</td>\n",
       "      <td>154824.33</td>\n",
       "      <td>0.000807</td>\n",
       "      <td>1</td>\n",
       "    </tr>\n",
       "    <tr>\n",
       "      <th>14</th>\n",
       "      <td>Material de consumo de TI</td>\n",
       "      <td>1</td>\n",
       "      <td>20000.00</td>\n",
       "      <td>0.000050</td>\n",
       "      <td>1</td>\n",
       "    </tr>\n",
       "    <tr>\n",
       "      <th>15</th>\n",
       "      <td>Outsourcing de impressão</td>\n",
       "      <td>100</td>\n",
       "      <td>210828.87</td>\n",
       "      <td>0.000474</td>\n",
       "      <td>1</td>\n",
       "    </tr>\n",
       "    <tr>\n",
       "      <th>17</th>\n",
       "      <td>Renovação Subscrição de Suporte Oracle Linux (...</td>\n",
       "      <td>1</td>\n",
       "      <td>50000.00</td>\n",
       "      <td>0.000020</td>\n",
       "      <td>1</td>\n",
       "    </tr>\n",
       "    <tr>\n",
       "      <th>18</th>\n",
       "      <td>Segurança de Perímetro</td>\n",
       "      <td>125</td>\n",
       "      <td>479808.00</td>\n",
       "      <td>0.000261</td>\n",
       "      <td>1</td>\n",
       "    </tr>\n",
       "    <tr>\n",
       "      <th>19</th>\n",
       "      <td>Serviço de arquivamento de backup em nuvem</td>\n",
       "      <td>80</td>\n",
       "      <td>64800.00</td>\n",
       "      <td>0.001235</td>\n",
       "      <td>1</td>\n",
       "    </tr>\n",
       "    <tr>\n",
       "      <th>21</th>\n",
       "      <td>Serviço de terceirização de atendimento ao usu...</td>\n",
       "      <td>125</td>\n",
       "      <td>413660.94</td>\n",
       "      <td>0.000302</td>\n",
       "      <td>1</td>\n",
       "    </tr>\n",
       "    <tr>\n",
       "      <th>22</th>\n",
       "      <td>Suporte à Ferramentas de diagnóstico e otimiza...</td>\n",
       "      <td>8</td>\n",
       "      <td>36883.44</td>\n",
       "      <td>0.000217</td>\n",
       "      <td>1</td>\n",
       "    </tr>\n",
       "    <tr>\n",
       "      <th>23</th>\n",
       "      <td>Suporte da Plataforma de virtualização do SGBD...</td>\n",
       "      <td>125</td>\n",
       "      <td>7208.00</td>\n",
       "      <td>0.017342</td>\n",
       "      <td>1</td>\n",
       "    </tr>\n",
       "    <tr>\n",
       "      <th>24</th>\n",
       "      <td>Suporte e atualização de versão da plataforma ...</td>\n",
       "      <td>125</td>\n",
       "      <td>38493.05</td>\n",
       "      <td>0.003247</td>\n",
       "      <td>1</td>\n",
       "    </tr>\n",
       "    <tr>\n",
       "      <th>25</th>\n",
       "      <td>Suporte e atualização de versão da solução de ...</td>\n",
       "      <td>125</td>\n",
       "      <td>80995.94</td>\n",
       "      <td>0.001543</td>\n",
       "      <td>1</td>\n",
       "    </tr>\n",
       "    <tr>\n",
       "      <th>26</th>\n",
       "      <td>Suporte e atualização de versão dos servidores...</td>\n",
       "      <td>125</td>\n",
       "      <td>103774.00</td>\n",
       "      <td>0.001205</td>\n",
       "      <td>1</td>\n",
       "    </tr>\n",
       "    <tr>\n",
       "      <th>27</th>\n",
       "      <td>Suporte Oracle SGBD</td>\n",
       "      <td>125</td>\n",
       "      <td>192349.64</td>\n",
       "      <td>0.000650</td>\n",
       "      <td>1</td>\n",
       "    </tr>\n",
       "    <tr>\n",
       "      <th>28</th>\n",
       "      <td>Suporte, atualização e licenciamento da plataf...</td>\n",
       "      <td>125</td>\n",
       "      <td>1853.42</td>\n",
       "      <td>0.067443</td>\n",
       "      <td>1</td>\n",
       "    </tr>\n",
       "    <tr>\n",
       "      <th>29</th>\n",
       "      <td>Suporte, atualização e licenciamento da plataf...</td>\n",
       "      <td>125</td>\n",
       "      <td>502208.26</td>\n",
       "      <td>0.000249</td>\n",
       "      <td>1</td>\n",
       "    </tr>\n",
       "    <tr>\n",
       "      <th>30</th>\n",
       "      <td>Sustentação da solução de Salvaguarda e Recupe...</td>\n",
       "      <td>125</td>\n",
       "      <td>96000.00</td>\n",
       "      <td>0.001302</td>\n",
       "      <td>1</td>\n",
       "    </tr>\n",
       "    <tr>\n",
       "      <th>31</th>\n",
       "      <td>Sustentação de Software</td>\n",
       "      <td>36</td>\n",
       "      <td>404427.72</td>\n",
       "      <td>0.000089</td>\n",
       "      <td>1</td>\n",
       "    </tr>\n",
       "  </tbody>\n",
       "</table>\n",
       "</div>"
      ],
      "text/plain": [
       "                                                 acao  importancia      valor  \\\n",
       "0          Acesso à base de dados da receita federal             8    7164.35   \n",
       "1                                      Big Data Nuvem           18  480000.00   \n",
       "2                                      Big Data Nuvem           18  480000.00   \n",
       "3             Canal de Comunicação com a internet - 1          125   62376.33   \n",
       "4             Canal de Comunicação com a internet - 2          125   66140.32   \n",
       "5                               Certificados Digitais           45    6784.00   \n",
       "6               Extensão de garantia da rede sem fio            16  176000.00   \n",
       "7   Extensão de garantia e assistência técnica da ...           16   56000.00   \n",
       "8              Fábrica de desenvolvimento de software           75  671086.17   \n",
       "9   Garantia e suporte para a solução de balanceam...           80  127120.50   \n",
       "10  LGPD - Contratação de solução que permita a in...           18  300000.00   \n",
       "11  LGPD - Ferramenta para mascaramento de informa...           27   75900.00   \n",
       "12  LGPD - Ferramenta para mascaramento de informa...           27  346500.00   \n",
       "13                  Licenças de Business Intelligence          125  154824.33   \n",
       "14                          Material de consumo de TI            1   20000.00   \n",
       "15                           Outsourcing de impressão          100  210828.87   \n",
       "17  Renovação Subscrição de Suporte Oracle Linux (...            1   50000.00   \n",
       "18                             Segurança de Perímetro          125  479808.00   \n",
       "19         Serviço de arquivamento de backup em nuvem           80   64800.00   \n",
       "21  Serviço de terceirização de atendimento ao usu...          125  413660.94   \n",
       "22  Suporte à Ferramentas de diagnóstico e otimiza...            8   36883.44   \n",
       "23  Suporte da Plataforma de virtualização do SGBD...          125    7208.00   \n",
       "24  Suporte e atualização de versão da plataforma ...          125   38493.05   \n",
       "25  Suporte e atualização de versão da solução de ...          125   80995.94   \n",
       "26  Suporte e atualização de versão dos servidores...          125  103774.00   \n",
       "27                                Suporte Oracle SGBD          125  192349.64   \n",
       "28  Suporte, atualização e licenciamento da plataf...          125    1853.42   \n",
       "29  Suporte, atualização e licenciamento da plataf...          125  502208.26   \n",
       "30  Sustentação da solução de Salvaguarda e Recupe...          125   96000.00   \n",
       "31                            Sustentação de Software           36  404427.72   \n",
       "\n",
       "    importancia_por_valor  proporcao  \n",
       "0                0.001117          1  \n",
       "1                0.000037          1  \n",
       "2                0.000037          1  \n",
       "3                0.002004          1  \n",
       "4                0.001890          1  \n",
       "5                0.006633          1  \n",
       "6                0.000091          1  \n",
       "7                0.000286          1  \n",
       "8                0.000112          1  \n",
       "9                0.000629          1  \n",
       "10               0.000060          1  \n",
       "11               0.000356          1  \n",
       "12               0.000078          1  \n",
       "13               0.000807          1  \n",
       "14               0.000050          1  \n",
       "15               0.000474          1  \n",
       "17               0.000020          1  \n",
       "18               0.000261          1  \n",
       "19               0.001235          1  \n",
       "21               0.000302          1  \n",
       "22               0.000217          1  \n",
       "23               0.017342          1  \n",
       "24               0.003247          1  \n",
       "25               0.001543          1  \n",
       "26               0.001205          1  \n",
       "27               0.000650          1  \n",
       "28               0.067443          1  \n",
       "29               0.000249          1  \n",
       "30               0.001302          1  \n",
       "31               0.000089          1  "
      ]
     },
     "execution_count": 20,
     "metadata": {},
     "output_type": "execute_result"
    }
   ],
   "source": [
    "itens_selecionados = itens_retornados.query(\"proporcao == 1\")\n",
    "itens_selecionados"
   ]
  },
  {
   "cell_type": "markdown",
   "metadata": {
    "pycharm": {
     "name": "#%% md\n"
    }
   },
   "source": [
    "Itens rejeitados"
   ]
  },
  {
   "cell_type": "code",
   "execution_count": 21,
   "metadata": {
    "pycharm": {
     "name": "#%%\n"
    }
   },
   "outputs": [
    {
     "data": {
      "text/html": [
       "<div>\n",
       "<style scoped>\n",
       "    .dataframe tbody tr th:only-of-type {\n",
       "        vertical-align: middle;\n",
       "    }\n",
       "\n",
       "    .dataframe tbody tr th {\n",
       "        vertical-align: top;\n",
       "    }\n",
       "\n",
       "    .dataframe thead th {\n",
       "        text-align: right;\n",
       "    }\n",
       "</style>\n",
       "<table border=\"1\" class=\"dataframe\">\n",
       "  <thead>\n",
       "    <tr style=\"text-align: right;\">\n",
       "      <th></th>\n",
       "      <th>acao</th>\n",
       "      <th>importancia</th>\n",
       "      <th>valor</th>\n",
       "      <th>importancia_por_valor</th>\n",
       "      <th>proporcao</th>\n",
       "    </tr>\n",
       "  </thead>\n",
       "  <tbody>\n",
       "    <tr>\n",
       "      <th>16</th>\n",
       "      <td>Renovação Infraestrutura de Servidores de Rede</td>\n",
       "      <td>45</td>\n",
       "      <td>1400000.0</td>\n",
       "      <td>0.000032</td>\n",
       "      <td>0</td>\n",
       "    </tr>\n",
       "    <tr>\n",
       "      <th>20</th>\n",
       "      <td>Serviço de consultoria estratégica em Tecnolog...</td>\n",
       "      <td>1</td>\n",
       "      <td>532968.0</td>\n",
       "      <td>0.000002</td>\n",
       "      <td>0</td>\n",
       "    </tr>\n",
       "  </tbody>\n",
       "</table>\n",
       "</div>"
      ],
      "text/plain": [
       "                                                 acao  importancia      valor  \\\n",
       "16    Renovação Infraestrutura de Servidores de Rede            45  1400000.0   \n",
       "20  Serviço de consultoria estratégica em Tecnolog...            1   532968.0   \n",
       "\n",
       "    importancia_por_valor  proporcao  \n",
       "16               0.000032          0  \n",
       "20               0.000002          0  "
      ]
     },
     "execution_count": 21,
     "metadata": {},
     "output_type": "execute_result"
    }
   ],
   "source": [
    "itens_rejeitados = itens_retornados.query(\"proporcao == 0\")\n",
    "itens_rejeitados"
   ]
  },
  {
   "cell_type": "markdown",
   "metadata": {
    "pycharm": {
     "name": "#%% md\n"
    }
   },
   "source": [
    "Compilando as estastísticas do algoritmo"
   ]
  },
  {
   "cell_type": "code",
   "execution_count": 22,
   "metadata": {
    "pycharm": {
     "name": "#%%\n"
    }
   },
   "outputs": [],
   "source": [
    "dicionario_estatistica = {\"algoritmo\": [str(knapsack)],\n",
    "                          \"inicio_processamento\": [inicio_processamento],\n",
    "                          \"fim_processamento\": [fim_processamento],\n",
    "                          \"tempo_processamento\": [tempo_processamento.total_seconds() * 1000],\n",
    "                          \"importancia_maxima\": [importancia_maxima],\n",
    "                          \"valor_maximo\": [valor_maximo],\n",
    "                          \"itens_selecionados\": [len(itens_selecionados)],\n",
    "                          \"itens_rejeitados\": [len(itens_rejeitados)]}\n",
    "\n",
    "estatistica = pd.DataFrame(dicionario_estatistica)\n",
    "estatisticas = pd.concat([estatisticas, estatistica], ignore_index=True)"
   ]
  },
  {
   "cell_type": "markdown",
   "metadata": {
    "pycharm": {
     "name": "#%% md\n"
    }
   },
   "source": [
    "## Estatísticas\n",
    "---"
   ]
  },
  {
   "cell_type": "markdown",
   "metadata": {
    "pycharm": {
     "name": "#%% md\n"
    }
   },
   "source": [
    "### Estatísticas coletadas"
   ]
  },
  {
   "cell_type": "code",
   "execution_count": 23,
   "metadata": {
    "pycharm": {
     "name": "#%%\n"
    }
   },
   "outputs": [
    {
     "data": {
      "text/html": [
       "<div>\n",
       "<style scoped>\n",
       "    .dataframe tbody tr th:only-of-type {\n",
       "        vertical-align: middle;\n",
       "    }\n",
       "\n",
       "    .dataframe tbody tr th {\n",
       "        vertical-align: top;\n",
       "    }\n",
       "\n",
       "    .dataframe thead th {\n",
       "        text-align: right;\n",
       "    }\n",
       "</style>\n",
       "<table border=\"1\" class=\"dataframe\">\n",
       "  <thead>\n",
       "    <tr style=\"text-align: right;\">\n",
       "      <th></th>\n",
       "      <th>algoritmo</th>\n",
       "      <th>inicio_processamento</th>\n",
       "      <th>fim_processamento</th>\n",
       "      <th>tempo_processamento</th>\n",
       "      <th>importancia_maxima</th>\n",
       "      <th>valor_maximo</th>\n",
       "      <th>itens_selecionados</th>\n",
       "      <th>itens_rejeitados</th>\n",
       "    </tr>\n",
       "  </thead>\n",
       "  <tbody>\n",
       "    <tr>\n",
       "      <th>0</th>\n",
       "      <td>Branch and Bound</td>\n",
       "      <td>2022-09-08 18:34:49.069817</td>\n",
       "      <td>2022-09-08 18:34:49.106824</td>\n",
       "      <td>37.007</td>\n",
       "      <td>2208</td>\n",
       "      <td>6153187.28</td>\n",
       "      <td>29</td>\n",
       "      <td>3</td>\n",
       "    </tr>\n",
       "    <tr>\n",
       "      <th>1</th>\n",
       "      <td>Algoritmo Guloso</td>\n",
       "      <td>2022-09-08 18:34:49.322874</td>\n",
       "      <td>2022-09-08 18:34:49.326875</td>\n",
       "      <td>4.001</td>\n",
       "      <td>2199</td>\n",
       "      <td>5713187.28</td>\n",
       "      <td>30</td>\n",
       "      <td>2</td>\n",
       "    </tr>\n",
       "    <tr>\n",
       "      <th>2</th>\n",
       "      <td>Busca Tabu</td>\n",
       "      <td>2022-09-08 18:34:49.569930</td>\n",
       "      <td>2022-09-08 18:34:50.122054</td>\n",
       "      <td>552.124</td>\n",
       "      <td>2199</td>\n",
       "      <td>5713187.28</td>\n",
       "      <td>30</td>\n",
       "      <td>2</td>\n",
       "    </tr>\n",
       "  </tbody>\n",
       "</table>\n",
       "</div>"
      ],
      "text/plain": [
       "          algoritmo        inicio_processamento           fim_processamento  \\\n",
       "0  Branch and Bound  2022-09-08 18:34:49.069817  2022-09-08 18:34:49.106824   \n",
       "1  Algoritmo Guloso  2022-09-08 18:34:49.322874  2022-09-08 18:34:49.326875   \n",
       "2        Busca Tabu  2022-09-08 18:34:49.569930  2022-09-08 18:34:50.122054   \n",
       "\n",
       "  tempo_processamento importancia_maxima valor_maximo itens_selecionados  \\\n",
       "0              37.007               2208   6153187.28                 29   \n",
       "1               4.001               2199   5713187.28                 30   \n",
       "2             552.124               2199   5713187.28                 30   \n",
       "\n",
       "  itens_rejeitados  \n",
       "0                3  \n",
       "1                2  \n",
       "2                2  "
      ]
     },
     "execution_count": 23,
     "metadata": {},
     "output_type": "execute_result"
    }
   ],
   "source": [
    "estatisticas"
   ]
  },
  {
   "cell_type": "markdown",
   "metadata": {
    "pycharm": {
     "name": "#%% md\n"
    }
   },
   "source": [
    "### Gráficos"
   ]
  },
  {
   "cell_type": "markdown",
   "metadata": {
    "pycharm": {
     "name": "#%% md\n"
    }
   },
   "source": [
    "Importância máxima obtida"
   ]
  },
  {
   "cell_type": "code",
   "execution_count": 24,
   "metadata": {
    "pycharm": {
     "name": "#%%\n"
    }
   },
   "outputs": [
    {
     "data": {
      "text/plain": [
       "<AxesSubplot:xlabel='algoritmo', ylabel='importancia_maxima'>"
      ]
     },
     "execution_count": 24,
     "metadata": {},
     "output_type": "execute_result"
    },
    {
     "data": {
      "image/png": "[encoded data removed]",
      "text/plain": [
       "<Figure size 432x288 with 1 Axes>"
      ]
     },
     "metadata": {},
     "output_type": "display_data"
    }
   ],
   "source": [
    "ax = sns.barplot(x=\"algoritmo\", y=\"importancia_maxima\", data=estatisticas)\n",
    "ax.bar_label(ax.containers[0])\n",
    "ax"
   ]
  },
  {
   "cell_type": "markdown",
   "metadata": {
    "pycharm": {
     "name": "#%% md\n"
    }
   },
   "source": [
    "Valor máximo obtido"
   ]
  },
  {
   "cell_type": "code",
   "execution_count": 25,
   "metadata": {
    "pycharm": {
     "name": "#%%\n"
    }
   },
   "outputs": [
    {
     "data": {
      "text/plain": [
       "<AxesSubplot:xlabel='algoritmo', ylabel='valor_maximo'>"
      ]
     },
     "execution_count": 25,
     "metadata": {},
     "output_type": "execute_result"
    },
    {
     "data": {
      "image/png": "[encoded data removed]",
      "text/plain": [
       "<Figure size 432x288 with 1 Axes>"
      ]
     },
     "metadata": {},
     "output_type": "display_data"
    }
   ],
   "source": [
    "ax = sns.barplot(x=\"algoritmo\", y=\"valor_maximo\", data=estatisticas)\n",
    "ax.bar_label(ax.containers[0])\n",
    "ax"
   ]
  },
  {
   "cell_type": "markdown",
   "metadata": {
    "pycharm": {
     "name": "#%% md\n"
    }
   },
   "source": [
    "Composição da mochila"
   ]
  },
  {
   "cell_type": "code",
   "execution_count": 26,
   "metadata": {
    "pycharm": {
     "name": "#%%\n"
    }
   },
   "outputs": [
    {
     "data": {
      "text/plain": [
       "<AxesSubplot:xlabel='algoritmo'>"
      ]
     },
     "execution_count": 26,
     "metadata": {},
     "output_type": "execute_result"
    },
    {
     "data": {
      "image/png": "[encoded data removed]",
      "text/plain": [
       "<Figure size 432x288 with 1 Axes>"
      ]
     },
     "metadata": {},
     "output_type": "display_data"
    }
   ],
   "source": [
    "estatisticas_composicao = estatisticas.filter([\"algoritmo\", \"itens_selecionados\", \"itens_rejeitados\"])\n",
    "estatisticas_composicao.set_index(\"algoritmo\", inplace=True)\n",
    "ax = estatisticas_composicao.plot(kind='bar', stacked=True)\n",
    "ax.bar_label(ax.containers[0])\n",
    "ax"
   ]
  },
  {
   "cell_type": "markdown",
   "metadata": {
    "pycharm": {
     "name": "#%% md\n"
    }
   },
   "source": [
    "Tempo de processamento"
   ]
  },
  {
   "cell_type": "code",
   "execution_count": 27,
   "metadata": {
    "pycharm": {
     "name": "#%%\n"
    }
   },
   "outputs": [
    {
     "data": {
      "text/plain": [
       "<AxesSubplot:xlabel='tempo_processamento', ylabel='algoritmo'>"
      ]
     },
     "execution_count": 27,
     "metadata": {},
     "output_type": "execute_result"
    },
    {
     "data": {
      "image/png": "[encoded data removed]",
      "text/plain": [
       "<Figure size 432x288 with 1 Axes>"
      ]
     },
     "metadata": {},
     "output_type": "display_data"
    }
   ],
   "source": [
    "ax = sns.barplot(x=\"tempo_processamento\", y=\"algoritmo\", data=estatisticas, orient=\"h\")\n",
    "ax.bar_label(ax.containers[0])\n",
    "ax"
   ]
  }
 ],
 "metadata": {
  "colab": {
   "collapsed_sections": [],
   "name": "Knapsack.ipynb",
   "provenance": []
  },
  "kernelspec": {
   "display_name": "Python 3 (ipykernel)",
   "language": "python",
   "name": "python3"
  },
  "language_info": {
   "codemirror_mode": {
    "name": "ipython",
    "version": 3
   },
   "file_extension": ".py",
   "mimetype": "text/x-python",
   "name": "python",
   "nbconvert_exporter": "python",
   "pygments_lexer": "ipython3",
   "version": "3.9.12"
  }
 },
 "nbformat": 4,
 "nbformat_minor": 1
}
